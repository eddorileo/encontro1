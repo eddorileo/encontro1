{
  "nbformat": 4,
  "nbformat_minor": 0,
  "metadata": {
    "colab": {
      "provenance": [],
      "authorship_tag": "ABX9TyNPsEGN+I77P9ag4L7/0SU7",
      "include_colab_link": true
    },
    "kernelspec": {
      "name": "python3",
      "display_name": "Python 3"
    },
    "language_info": {
      "name": "python"
    }
  },
  "cells": [
    {
      "cell_type": "markdown",
      "metadata": {
        "id": "view-in-github",
        "colab_type": "text"
      },
      "source": [
        "<a href=\"https://colab.research.google.com/github/eddorileo/saudeDigital/blob/main/src/AnaliseExploratoriaDados.ipynb\" target=\"_parent\"><img src=\"https://colab.research.google.com/assets/colab-badge.svg\" alt=\"Open In Colab\"/></a>"
      ]
    },
    {
      "cell_type": "code",
      "execution_count": null,
      "metadata": {
        "id": "kuF-efrVD96s"
      },
      "outputs": [],
      "source": [
        "#Ciência de Dados e Saúde Digital\n",
        "##Estudo de Caso: Absenteísmo (No-show)\n",
        "Facilitador: Éderson Dorileo, MSc, PhD"
      ]
    },
    {
      "cell_type": "markdown",
      "source": [
        "###1. Importação e Limpeza dos Dados"
      ],
      "metadata": {
        "id": "Msv9BNcKEdQZ"
      }
    },
    {
      "cell_type": "code",
      "source": [
        "# Importar bibliotecas necessárias\n",
        "import pandas as pd\n",
        "import numpy as np\n",
        "import matplotlib.pyplot as plt\n",
        "import seaborn as sns\n",
        "\n",
        "# Configurar o estilo dos gráficos\n",
        "sns.set(style=\"whitegrid\")\n",
        "\n",
        "# Carregar a base de dados\n",
        "df = pd.read_csv('no_show.csv')\n",
        "\n",
        "# Visualizar as primeiras linhas da base de dados\n",
        "df.head()"
      ],
      "metadata": {
        "id": "Bthge6tDEljn"
      },
      "execution_count": null,
      "outputs": []
    }
  ]
}