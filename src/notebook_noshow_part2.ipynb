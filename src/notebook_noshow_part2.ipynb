{
  "nbformat": 4,
  "nbformat_minor": 0,
  "metadata": {
    "colab": {
      "provenance": [],
      "include_colab_link": true
    },
    "kernelspec": {
      "name": "python3",
      "display_name": "Python 3"
    },
    "language_info": {
      "name": "python"
    }
  },
  "cells": [
    {
      "cell_type": "markdown",
      "metadata": {
        "id": "view-in-github",
        "colab_type": "text"
      },
      "source": [
        "<a href=\"https://colab.research.google.com/github/eddorileo/saudeDigital/blob/main/src/notebook_noshow_part2.ipynb\" target=\"_parent\"><img src=\"https://colab.research.google.com/assets/colab-badge.svg\" alt=\"Open In Colab\"/></a>"
      ]
    },
    {
      "cell_type": "markdown",
      "source": [
        "1. Criar uma pergunta (Objetivo)\n",
        "2. Carregar os dados\n",
        "3. Limpar os dados\n",
        "  - Eliminar campos nulos e vazios\n",
        "  - Eliminar inconsistências\n",
        "5. Checar algumas estatísticas iniciais\n",
        "6. Gerar um gráficos\n",
        "7. Responder a pergunta (ou gerar novas perguntas)\n"
      ],
      "metadata": {
        "id": "KK32xdTACmfG"
      }
    },
    {
      "cell_type": "markdown",
      "source": [
        "**Pergunta:**\n",
        "\n",
        "*   É possível predizer noshow?\n",
        "*   Quais as causas?\n",
        "*   Quais colunas (parâmetros) estão relacionados com o noshow?\n",
        "\n",
        "\n"
      ],
      "metadata": {
        "id": "8wDGlRw5EtNX"
      }
    },
    {
      "cell_type": "code",
      "source": [
        "#2. Carregando os dados\n",
        "\n",
        "# Importando a biblioteca necessária\n",
        "import pandas as pd\n",
        "from google.colab import files\n",
        "\n",
        "# Fazendo o upload do arquivo\n",
        "uploaded = files.upload()\n",
        "\n",
        "# Lendo o arquivo\n",
        "for fn in uploaded.keys():\n",
        "  print('-', fn)\n",
        "  data = pd.read_csv(fn)\n",
        "\n",
        "# Visualizando os primeiros registros\n",
        "data.head()\n"
      ],
      "metadata": {
        "colab": {
          "base_uri": "https://localhost:8080/",
          "height": 352
        },
        "id": "TqyBA1oHFsCR",
        "outputId": "e8210540-d7d3-4e5e-8b8a-712c800cbf12"
      },
      "execution_count": 5,
      "outputs": [
        {
          "output_type": "display_data",
          "data": {
            "text/plain": [
              "<IPython.core.display.HTML object>"
            ],
            "text/html": [
              "\n",
              "     <input type=\"file\" id=\"files-9f6fc80b-7c6d-4b50-8920-d75c07d5f019\" name=\"files[]\" multiple disabled\n",
              "        style=\"border:none\" />\n",
              "     <output id=\"result-9f6fc80b-7c6d-4b50-8920-d75c07d5f019\">\n",
              "      Upload widget is only available when the cell has been executed in the\n",
              "      current browser session. Please rerun this cell to enable.\n",
              "      </output>\n",
              "      <script>// Copyright 2017 Google LLC\n",
              "//\n",
              "// Licensed under the Apache License, Version 2.0 (the \"License\");\n",
              "// you may not use this file except in compliance with the License.\n",
              "// You may obtain a copy of the License at\n",
              "//\n",
              "//      http://www.apache.org/licenses/LICENSE-2.0\n",
              "//\n",
              "// Unless required by applicable law or agreed to in writing, software\n",
              "// distributed under the License is distributed on an \"AS IS\" BASIS,\n",
              "// WITHOUT WARRANTIES OR CONDITIONS OF ANY KIND, either express or implied.\n",
              "// See the License for the specific language governing permissions and\n",
              "// limitations under the License.\n",
              "\n",
              "/**\n",
              " * @fileoverview Helpers for google.colab Python module.\n",
              " */\n",
              "(function(scope) {\n",
              "function span(text, styleAttributes = {}) {\n",
              "  const element = document.createElement('span');\n",
              "  element.textContent = text;\n",
              "  for (const key of Object.keys(styleAttributes)) {\n",
              "    element.style[key] = styleAttributes[key];\n",
              "  }\n",
              "  return element;\n",
              "}\n",
              "\n",
              "// Max number of bytes which will be uploaded at a time.\n",
              "const MAX_PAYLOAD_SIZE = 100 * 1024;\n",
              "\n",
              "function _uploadFiles(inputId, outputId) {\n",
              "  const steps = uploadFilesStep(inputId, outputId);\n",
              "  const outputElement = document.getElementById(outputId);\n",
              "  // Cache steps on the outputElement to make it available for the next call\n",
              "  // to uploadFilesContinue from Python.\n",
              "  outputElement.steps = steps;\n",
              "\n",
              "  return _uploadFilesContinue(outputId);\n",
              "}\n",
              "\n",
              "// This is roughly an async generator (not supported in the browser yet),\n",
              "// where there are multiple asynchronous steps and the Python side is going\n",
              "// to poll for completion of each step.\n",
              "// This uses a Promise to block the python side on completion of each step,\n",
              "// then passes the result of the previous step as the input to the next step.\n",
              "function _uploadFilesContinue(outputId) {\n",
              "  const outputElement = document.getElementById(outputId);\n",
              "  const steps = outputElement.steps;\n",
              "\n",
              "  const next = steps.next(outputElement.lastPromiseValue);\n",
              "  return Promise.resolve(next.value.promise).then((value) => {\n",
              "    // Cache the last promise value to make it available to the next\n",
              "    // step of the generator.\n",
              "    outputElement.lastPromiseValue = value;\n",
              "    return next.value.response;\n",
              "  });\n",
              "}\n",
              "\n",
              "/**\n",
              " * Generator function which is called between each async step of the upload\n",
              " * process.\n",
              " * @param {string} inputId Element ID of the input file picker element.\n",
              " * @param {string} outputId Element ID of the output display.\n",
              " * @return {!Iterable<!Object>} Iterable of next steps.\n",
              " */\n",
              "function* uploadFilesStep(inputId, outputId) {\n",
              "  const inputElement = document.getElementById(inputId);\n",
              "  inputElement.disabled = false;\n",
              "\n",
              "  const outputElement = document.getElementById(outputId);\n",
              "  outputElement.innerHTML = '';\n",
              "\n",
              "  const pickedPromise = new Promise((resolve) => {\n",
              "    inputElement.addEventListener('change', (e) => {\n",
              "      resolve(e.target.files);\n",
              "    });\n",
              "  });\n",
              "\n",
              "  const cancel = document.createElement('button');\n",
              "  inputElement.parentElement.appendChild(cancel);\n",
              "  cancel.textContent = 'Cancel upload';\n",
              "  const cancelPromise = new Promise((resolve) => {\n",
              "    cancel.onclick = () => {\n",
              "      resolve(null);\n",
              "    };\n",
              "  });\n",
              "\n",
              "  // Wait for the user to pick the files.\n",
              "  const files = yield {\n",
              "    promise: Promise.race([pickedPromise, cancelPromise]),\n",
              "    response: {\n",
              "      action: 'starting',\n",
              "    }\n",
              "  };\n",
              "\n",
              "  cancel.remove();\n",
              "\n",
              "  // Disable the input element since further picks are not allowed.\n",
              "  inputElement.disabled = true;\n",
              "\n",
              "  if (!files) {\n",
              "    return {\n",
              "      response: {\n",
              "        action: 'complete',\n",
              "      }\n",
              "    };\n",
              "  }\n",
              "\n",
              "  for (const file of files) {\n",
              "    const li = document.createElement('li');\n",
              "    li.append(span(file.name, {fontWeight: 'bold'}));\n",
              "    li.append(span(\n",
              "        `(${file.type || 'n/a'}) - ${file.size} bytes, ` +\n",
              "        `last modified: ${\n",
              "            file.lastModifiedDate ? file.lastModifiedDate.toLocaleDateString() :\n",
              "                                    'n/a'} - `));\n",
              "    const percent = span('0% done');\n",
              "    li.appendChild(percent);\n",
              "\n",
              "    outputElement.appendChild(li);\n",
              "\n",
              "    const fileDataPromise = new Promise((resolve) => {\n",
              "      const reader = new FileReader();\n",
              "      reader.onload = (e) => {\n",
              "        resolve(e.target.result);\n",
              "      };\n",
              "      reader.readAsArrayBuffer(file);\n",
              "    });\n",
              "    // Wait for the data to be ready.\n",
              "    let fileData = yield {\n",
              "      promise: fileDataPromise,\n",
              "      response: {\n",
              "        action: 'continue',\n",
              "      }\n",
              "    };\n",
              "\n",
              "    // Use a chunked sending to avoid message size limits. See b/62115660.\n",
              "    let position = 0;\n",
              "    do {\n",
              "      const length = Math.min(fileData.byteLength - position, MAX_PAYLOAD_SIZE);\n",
              "      const chunk = new Uint8Array(fileData, position, length);\n",
              "      position += length;\n",
              "\n",
              "      const base64 = btoa(String.fromCharCode.apply(null, chunk));\n",
              "      yield {\n",
              "        response: {\n",
              "          action: 'append',\n",
              "          file: file.name,\n",
              "          data: base64,\n",
              "        },\n",
              "      };\n",
              "\n",
              "      let percentDone = fileData.byteLength === 0 ?\n",
              "          100 :\n",
              "          Math.round((position / fileData.byteLength) * 100);\n",
              "      percent.textContent = `${percentDone}% done`;\n",
              "\n",
              "    } while (position < fileData.byteLength);\n",
              "  }\n",
              "\n",
              "  // All done.\n",
              "  yield {\n",
              "    response: {\n",
              "      action: 'complete',\n",
              "    }\n",
              "  };\n",
              "}\n",
              "\n",
              "scope.google = scope.google || {};\n",
              "scope.google.colab = scope.google.colab || {};\n",
              "scope.google.colab._files = {\n",
              "  _uploadFiles,\n",
              "  _uploadFilesContinue,\n",
              "};\n",
              "})(self);\n",
              "</script> "
            ]
          },
          "metadata": {}
        },
        {
          "output_type": "execute_result",
          "data": {
            "text/plain": [
              "      PatientId  AppointmentID Gender          ScheduledDay  \\\n",
              "0  2.987250e+13        5642903      F  2016-04-29T18:38:08Z   \n",
              "1  5.589978e+14        5642503      M  2016-04-29T16:08:27Z   \n",
              "2  4.262962e+12        5642549      F  2016-04-29T16:19:04Z   \n",
              "3  8.679512e+11        5642828      F  2016-04-29T17:29:31Z   \n",
              "4  8.841186e+12        5642494      F  2016-04-29T16:07:23Z   \n",
              "\n",
              "         AppointmentDay  Age      Neighbourhood  Scholarship  Hipertension  \\\n",
              "0  2016-04-29T00:00:00Z   62    JARDIM DA PENHA            0             1   \n",
              "1  2016-04-29T00:00:00Z   56    JARDIM DA PENHA            0             0   \n",
              "2  2016-04-29T00:00:00Z   62      MATA DA PRAIA            0             0   \n",
              "3  2016-04-29T00:00:00Z    8  PONTAL DE CAMBURI            0             0   \n",
              "4  2016-04-29T00:00:00Z   56    JARDIM DA PENHA            0             1   \n",
              "\n",
              "   Diabetes  Alcoholism  Handcap  SMS_received No-show  \n",
              "0         0           0        0             0      No  \n",
              "1         0           0        0             0      No  \n",
              "2         0           0        0             0      No  \n",
              "3         0           0        0             0      No  \n",
              "4         1           0        0             0      No  "
            ],
            "text/html": [
              "\n",
              "  <div id=\"df-72177c3a-703b-4171-bf30-8beb631242ee\" class=\"colab-df-container\">\n",
              "    <div>\n",
              "<style scoped>\n",
              "    .dataframe tbody tr th:only-of-type {\n",
              "        vertical-align: middle;\n",
              "    }\n",
              "\n",
              "    .dataframe tbody tr th {\n",
              "        vertical-align: top;\n",
              "    }\n",
              "\n",
              "    .dataframe thead th {\n",
              "        text-align: right;\n",
              "    }\n",
              "</style>\n",
              "<table border=\"1\" class=\"dataframe\">\n",
              "  <thead>\n",
              "    <tr style=\"text-align: right;\">\n",
              "      <th></th>\n",
              "      <th>PatientId</th>\n",
              "      <th>AppointmentID</th>\n",
              "      <th>Gender</th>\n",
              "      <th>ScheduledDay</th>\n",
              "      <th>AppointmentDay</th>\n",
              "      <th>Age</th>\n",
              "      <th>Neighbourhood</th>\n",
              "      <th>Scholarship</th>\n",
              "      <th>Hipertension</th>\n",
              "      <th>Diabetes</th>\n",
              "      <th>Alcoholism</th>\n",
              "      <th>Handcap</th>\n",
              "      <th>SMS_received</th>\n",
              "      <th>No-show</th>\n",
              "    </tr>\n",
              "  </thead>\n",
              "  <tbody>\n",
              "    <tr>\n",
              "      <th>0</th>\n",
              "      <td>2.987250e+13</td>\n",
              "      <td>5642903</td>\n",
              "      <td>F</td>\n",
              "      <td>2016-04-29T18:38:08Z</td>\n",
              "      <td>2016-04-29T00:00:00Z</td>\n",
              "      <td>62</td>\n",
              "      <td>JARDIM DA PENHA</td>\n",
              "      <td>0</td>\n",
              "      <td>1</td>\n",
              "      <td>0</td>\n",
              "      <td>0</td>\n",
              "      <td>0</td>\n",
              "      <td>0</td>\n",
              "      <td>No</td>\n",
              "    </tr>\n",
              "    <tr>\n",
              "      <th>1</th>\n",
              "      <td>5.589978e+14</td>\n",
              "      <td>5642503</td>\n",
              "      <td>M</td>\n",
              "      <td>2016-04-29T16:08:27Z</td>\n",
              "      <td>2016-04-29T00:00:00Z</td>\n",
              "      <td>56</td>\n",
              "      <td>JARDIM DA PENHA</td>\n",
              "      <td>0</td>\n",
              "      <td>0</td>\n",
              "      <td>0</td>\n",
              "      <td>0</td>\n",
              "      <td>0</td>\n",
              "      <td>0</td>\n",
              "      <td>No</td>\n",
              "    </tr>\n",
              "    <tr>\n",
              "      <th>2</th>\n",
              "      <td>4.262962e+12</td>\n",
              "      <td>5642549</td>\n",
              "      <td>F</td>\n",
              "      <td>2016-04-29T16:19:04Z</td>\n",
              "      <td>2016-04-29T00:00:00Z</td>\n",
              "      <td>62</td>\n",
              "      <td>MATA DA PRAIA</td>\n",
              "      <td>0</td>\n",
              "      <td>0</td>\n",
              "      <td>0</td>\n",
              "      <td>0</td>\n",
              "      <td>0</td>\n",
              "      <td>0</td>\n",
              "      <td>No</td>\n",
              "    </tr>\n",
              "    <tr>\n",
              "      <th>3</th>\n",
              "      <td>8.679512e+11</td>\n",
              "      <td>5642828</td>\n",
              "      <td>F</td>\n",
              "      <td>2016-04-29T17:29:31Z</td>\n",
              "      <td>2016-04-29T00:00:00Z</td>\n",
              "      <td>8</td>\n",
              "      <td>PONTAL DE CAMBURI</td>\n",
              "      <td>0</td>\n",
              "      <td>0</td>\n",
              "      <td>0</td>\n",
              "      <td>0</td>\n",
              "      <td>0</td>\n",
              "      <td>0</td>\n",
              "      <td>No</td>\n",
              "    </tr>\n",
              "    <tr>\n",
              "      <th>4</th>\n",
              "      <td>8.841186e+12</td>\n",
              "      <td>5642494</td>\n",
              "      <td>F</td>\n",
              "      <td>2016-04-29T16:07:23Z</td>\n",
              "      <td>2016-04-29T00:00:00Z</td>\n",
              "      <td>56</td>\n",
              "      <td>JARDIM DA PENHA</td>\n",
              "      <td>0</td>\n",
              "      <td>1</td>\n",
              "      <td>1</td>\n",
              "      <td>0</td>\n",
              "      <td>0</td>\n",
              "      <td>0</td>\n",
              "      <td>No</td>\n",
              "    </tr>\n",
              "  </tbody>\n",
              "</table>\n",
              "</div>\n",
              "    <div class=\"colab-df-buttons\">\n",
              "\n",
              "  <div class=\"colab-df-container\">\n",
              "    <button class=\"colab-df-convert\" onclick=\"convertToInteractive('df-72177c3a-703b-4171-bf30-8beb631242ee')\"\n",
              "            title=\"Convert this dataframe to an interactive table.\"\n",
              "            style=\"display:none;\">\n",
              "\n",
              "  <svg xmlns=\"http://www.w3.org/2000/svg\" height=\"24px\" viewBox=\"0 -960 960 960\">\n",
              "    <path d=\"M120-120v-720h720v720H120Zm60-500h600v-160H180v160Zm220 220h160v-160H400v160Zm0 220h160v-160H400v160ZM180-400h160v-160H180v160Zm440 0h160v-160H620v160ZM180-180h160v-160H180v160Zm440 0h160v-160H620v160Z\"/>\n",
              "  </svg>\n",
              "    </button>\n",
              "\n",
              "  <style>\n",
              "    .colab-df-container {\n",
              "      display:flex;\n",
              "      gap: 12px;\n",
              "    }\n",
              "\n",
              "    .colab-df-convert {\n",
              "      background-color: #E8F0FE;\n",
              "      border: none;\n",
              "      border-radius: 50%;\n",
              "      cursor: pointer;\n",
              "      display: none;\n",
              "      fill: #1967D2;\n",
              "      height: 32px;\n",
              "      padding: 0 0 0 0;\n",
              "      width: 32px;\n",
              "    }\n",
              "\n",
              "    .colab-df-convert:hover {\n",
              "      background-color: #E2EBFA;\n",
              "      box-shadow: 0px 1px 2px rgba(60, 64, 67, 0.3), 0px 1px 3px 1px rgba(60, 64, 67, 0.15);\n",
              "      fill: #174EA6;\n",
              "    }\n",
              "\n",
              "    .colab-df-buttons div {\n",
              "      margin-bottom: 4px;\n",
              "    }\n",
              "\n",
              "    [theme=dark] .colab-df-convert {\n",
              "      background-color: #3B4455;\n",
              "      fill: #D2E3FC;\n",
              "    }\n",
              "\n",
              "    [theme=dark] .colab-df-convert:hover {\n",
              "      background-color: #434B5C;\n",
              "      box-shadow: 0px 1px 3px 1px rgba(0, 0, 0, 0.15);\n",
              "      filter: drop-shadow(0px 1px 2px rgba(0, 0, 0, 0.3));\n",
              "      fill: #FFFFFF;\n",
              "    }\n",
              "  </style>\n",
              "\n",
              "    <script>\n",
              "      const buttonEl =\n",
              "        document.querySelector('#df-72177c3a-703b-4171-bf30-8beb631242ee button.colab-df-convert');\n",
              "      buttonEl.style.display =\n",
              "        google.colab.kernel.accessAllowed ? 'block' : 'none';\n",
              "\n",
              "      async function convertToInteractive(key) {\n",
              "        const element = document.querySelector('#df-72177c3a-703b-4171-bf30-8beb631242ee');\n",
              "        const dataTable =\n",
              "          await google.colab.kernel.invokeFunction('convertToInteractive',\n",
              "                                                    [key], {});\n",
              "        if (!dataTable) return;\n",
              "\n",
              "        const docLinkHtml = 'Like what you see? Visit the ' +\n",
              "          '<a target=\"_blank\" href=https://colab.research.google.com/notebooks/data_table.ipynb>data table notebook</a>'\n",
              "          + ' to learn more about interactive tables.';\n",
              "        element.innerHTML = '';\n",
              "        dataTable['output_type'] = 'display_data';\n",
              "        await google.colab.output.renderOutput(dataTable, element);\n",
              "        const docLink = document.createElement('div');\n",
              "        docLink.innerHTML = docLinkHtml;\n",
              "        element.appendChild(docLink);\n",
              "      }\n",
              "    </script>\n",
              "  </div>\n",
              "\n",
              "\n",
              "<div id=\"df-747a443f-2ea9-45a1-bf43-6cfe5c88b61e\">\n",
              "  <button class=\"colab-df-quickchart\" onclick=\"quickchart('df-747a443f-2ea9-45a1-bf43-6cfe5c88b61e')\"\n",
              "            title=\"Suggest charts\"\n",
              "            style=\"display:none;\">\n",
              "\n",
              "<svg xmlns=\"http://www.w3.org/2000/svg\" height=\"24px\"viewBox=\"0 0 24 24\"\n",
              "     width=\"24px\">\n",
              "    <g>\n",
              "        <path d=\"M19 3H5c-1.1 0-2 .9-2 2v14c0 1.1.9 2 2 2h14c1.1 0 2-.9 2-2V5c0-1.1-.9-2-2-2zM9 17H7v-7h2v7zm4 0h-2V7h2v10zm4 0h-2v-4h2v4z\"/>\n",
              "    </g>\n",
              "</svg>\n",
              "  </button>\n",
              "\n",
              "<style>\n",
              "  .colab-df-quickchart {\n",
              "      --bg-color: #E8F0FE;\n",
              "      --fill-color: #1967D2;\n",
              "      --hover-bg-color: #E2EBFA;\n",
              "      --hover-fill-color: #174EA6;\n",
              "      --disabled-fill-color: #AAA;\n",
              "      --disabled-bg-color: #DDD;\n",
              "  }\n",
              "\n",
              "  [theme=dark] .colab-df-quickchart {\n",
              "      --bg-color: #3B4455;\n",
              "      --fill-color: #D2E3FC;\n",
              "      --hover-bg-color: #434B5C;\n",
              "      --hover-fill-color: #FFFFFF;\n",
              "      --disabled-bg-color: #3B4455;\n",
              "      --disabled-fill-color: #666;\n",
              "  }\n",
              "\n",
              "  .colab-df-quickchart {\n",
              "    background-color: var(--bg-color);\n",
              "    border: none;\n",
              "    border-radius: 50%;\n",
              "    cursor: pointer;\n",
              "    display: none;\n",
              "    fill: var(--fill-color);\n",
              "    height: 32px;\n",
              "    padding: 0;\n",
              "    width: 32px;\n",
              "  }\n",
              "\n",
              "  .colab-df-quickchart:hover {\n",
              "    background-color: var(--hover-bg-color);\n",
              "    box-shadow: 0 1px 2px rgba(60, 64, 67, 0.3), 0 1px 3px 1px rgba(60, 64, 67, 0.15);\n",
              "    fill: var(--button-hover-fill-color);\n",
              "  }\n",
              "\n",
              "  .colab-df-quickchart-complete:disabled,\n",
              "  .colab-df-quickchart-complete:disabled:hover {\n",
              "    background-color: var(--disabled-bg-color);\n",
              "    fill: var(--disabled-fill-color);\n",
              "    box-shadow: none;\n",
              "  }\n",
              "\n",
              "  .colab-df-spinner {\n",
              "    border: 2px solid var(--fill-color);\n",
              "    border-color: transparent;\n",
              "    border-bottom-color: var(--fill-color);\n",
              "    animation:\n",
              "      spin 1s steps(1) infinite;\n",
              "  }\n",
              "\n",
              "  @keyframes spin {\n",
              "    0% {\n",
              "      border-color: transparent;\n",
              "      border-bottom-color: var(--fill-color);\n",
              "      border-left-color: var(--fill-color);\n",
              "    }\n",
              "    20% {\n",
              "      border-color: transparent;\n",
              "      border-left-color: var(--fill-color);\n",
              "      border-top-color: var(--fill-color);\n",
              "    }\n",
              "    30% {\n",
              "      border-color: transparent;\n",
              "      border-left-color: var(--fill-color);\n",
              "      border-top-color: var(--fill-color);\n",
              "      border-right-color: var(--fill-color);\n",
              "    }\n",
              "    40% {\n",
              "      border-color: transparent;\n",
              "      border-right-color: var(--fill-color);\n",
              "      border-top-color: var(--fill-color);\n",
              "    }\n",
              "    60% {\n",
              "      border-color: transparent;\n",
              "      border-right-color: var(--fill-color);\n",
              "    }\n",
              "    80% {\n",
              "      border-color: transparent;\n",
              "      border-right-color: var(--fill-color);\n",
              "      border-bottom-color: var(--fill-color);\n",
              "    }\n",
              "    90% {\n",
              "      border-color: transparent;\n",
              "      border-bottom-color: var(--fill-color);\n",
              "    }\n",
              "  }\n",
              "</style>\n",
              "\n",
              "  <script>\n",
              "    async function quickchart(key) {\n",
              "      const quickchartButtonEl =\n",
              "        document.querySelector('#' + key + ' button');\n",
              "      quickchartButtonEl.disabled = true;  // To prevent multiple clicks.\n",
              "      quickchartButtonEl.classList.add('colab-df-spinner');\n",
              "      try {\n",
              "        const charts = await google.colab.kernel.invokeFunction(\n",
              "            'suggestCharts', [key], {});\n",
              "      } catch (error) {\n",
              "        console.error('Error during call to suggestCharts:', error);\n",
              "      }\n",
              "      quickchartButtonEl.classList.remove('colab-df-spinner');\n",
              "      quickchartButtonEl.classList.add('colab-df-quickchart-complete');\n",
              "    }\n",
              "    (() => {\n",
              "      let quickchartButtonEl =\n",
              "        document.querySelector('#df-747a443f-2ea9-45a1-bf43-6cfe5c88b61e button');\n",
              "      quickchartButtonEl.style.display =\n",
              "        google.colab.kernel.accessAllowed ? 'block' : 'none';\n",
              "    })();\n",
              "  </script>\n",
              "</div>\n",
              "\n",
              "    </div>\n",
              "  </div>\n"
            ],
            "application/vnd.google.colaboratory.intrinsic+json": {
              "type": "dataframe",
              "variable_name": "data"
            }
          },
          "metadata": {},
          "execution_count": 5
        }
      ]
    },
    {
      "cell_type": "code",
      "source": [
        "# 3.1. Contando o número de valores nulos em cada coluna\n",
        "nulos = data.isnull().sum()\n",
        "\n",
        "# Visualizando o número de valores nulos\n",
        "print(nulos)\n"
      ],
      "metadata": {
        "colab": {
          "base_uri": "https://localhost:8080/"
        },
        "id": "4H5kl_PHIX1c",
        "outputId": "518a0e5e-9222-41d0-8d64-bbbbc49591fe"
      },
      "execution_count": 6,
      "outputs": [
        {
          "output_type": "stream",
          "name": "stdout",
          "text": [
            "PatientId         0\n",
            "AppointmentID     0\n",
            "Gender            0\n",
            "ScheduledDay      0\n",
            "AppointmentDay    0\n",
            "Age               0\n",
            "Neighbourhood     0\n",
            "Scholarship       0\n",
            "Hipertension      0\n",
            "Diabetes          0\n",
            "Alcoholism        0\n",
            "Handcap           0\n",
            "SMS_received      0\n",
            "No-show           0\n",
            "dtype: int64\n"
          ]
        }
      ]
    },
    {
      "cell_type": "code",
      "source": [
        "#3.2. Consistência dos dados\n",
        "\n",
        "# Supondo que 'df' é seu DataFrame e 'idade' é sua coluna de idade\n",
        "idades = data['Age']\n",
        "\n",
        "# Verificar idades negativas\n",
        "negativas = idades[idades < 0]\n",
        "print(f'Idades negativas: {negativas}')\n",
        "\n",
        "# Verificar idades muito altas\n",
        "altas = idades[idades > 150]\n",
        "print(f'Idades muito altas: {altas}')\n",
        "\n",
        "# Verificar idades não inteiras\n",
        "nao_inteiras = idades[idades != idades.astype(int)]\n",
        "print(f'Idades não inteiras: {nao_inteiras}')\n",
        "\n",
        "# Verificar idades nulas ou ausentes\n",
        "nulas = idades[idades.isnull()]\n",
        "print(f'Idades nulas: {nulas}')\n"
      ],
      "metadata": {
        "colab": {
          "base_uri": "https://localhost:8080/"
        },
        "id": "azzoReRxJjtW",
        "outputId": "d5e73ac2-ff9c-4825-9a3f-e1145d517cf4"
      },
      "execution_count": 8,
      "outputs": [
        {
          "output_type": "stream",
          "name": "stdout",
          "text": [
            "Idades negativas: 99832   -1\n",
            "Name: Age, dtype: int64\n",
            "Idades muito altas: Series([], Name: Age, dtype: int64)\n",
            "Idades não inteiras: Series([], Name: Age, dtype: int64)\n",
            "Idades nulas: Series([], Name: Age, dtype: int64)\n"
          ]
        }
      ]
    },
    {
      "cell_type": "code",
      "source": [
        "idades[idades < 0]"
      ],
      "metadata": {
        "colab": {
          "base_uri": "https://localhost:8080/"
        },
        "id": "fZaVcGdsJ2O9",
        "outputId": "56479705-1c78-4f49-da14-184e2b67bfc1"
      },
      "execution_count": 9,
      "outputs": [
        {
          "output_type": "execute_result",
          "data": {
            "text/plain": [
              "99832   -1\n",
              "Name: Age, dtype: int64"
            ]
          },
          "metadata": {},
          "execution_count": 9
        }
      ]
    },
    {
      "cell_type": "code",
      "source": [
        "# Supondo que 'data' é seu DataFrame\n",
        "linha_324 = data.iloc[99832]\n",
        "\n",
        "# Imprimindo a linha\n",
        "print(linha_324)\n"
      ],
      "metadata": {
        "colab": {
          "base_uri": "https://localhost:8080/"
        },
        "id": "qohaqTSuK3ty",
        "outputId": "7df4c156-9044-48fa-c44e-9768a2476f08"
      },
      "execution_count": null,
      "outputs": [
        {
          "output_type": "stream",
          "name": "stdout",
          "text": [
            "PatientId            465943158731293.0\n",
            "AppointmentID                  5775010\n",
            "Gender                               F\n",
            "ScheduledDay      2016-06-06T08:58:13Z\n",
            "AppointmentDay    2016-06-06T00:00:00Z\n",
            "Age                                 -1\n",
            "Neighbourhood                    ROMÃO\n",
            "Scholarship                          0\n",
            "Hipertension                         0\n",
            "Diabetes                             0\n",
            "Alcoholism                           0\n",
            "Handcap                              0\n",
            "SMS_received                         0\n",
            "No-show                             No\n",
            "Name: 99832, dtype: object\n"
          ]
        }
      ]
    },
    {
      "cell_type": "code",
      "source": [
        "data.drop(99832, inplace=True)"
      ],
      "metadata": {
        "id": "TCIEoNPSLQOB"
      },
      "execution_count": null,
      "outputs": []
    },
    {
      "cell_type": "code",
      "source": [
        "data.iloc[99832]"
      ],
      "metadata": {
        "id": "_BAU15gGLc6V"
      },
      "execution_count": null,
      "outputs": []
    },
    {
      "cell_type": "code",
      "source": [
        "data.columns"
      ],
      "metadata": {
        "colab": {
          "base_uri": "https://localhost:8080/"
        },
        "id": "HxXl5d_htu5H",
        "outputId": "2790e12e-abc0-4a96-944d-ebfba0551439"
      },
      "execution_count": null,
      "outputs": [
        {
          "output_type": "execute_result",
          "data": {
            "text/plain": [
              "Index(['PatientId', 'AppointmentID', 'Gender', 'ScheduledDay',\n",
              "       'AppointmentDay', 'Age', 'Neighbourhood', 'Scholarship', 'Hipertension',\n",
              "       'Diabetes', 'Alcoholism', 'Handcap', 'SMS_received', 'No-show'],\n",
              "      dtype='object')"
            ]
          },
          "metadata": {},
          "execution_count": 9
        }
      ]
    },
    {
      "cell_type": "markdown",
      "source": [
        "##Exemplo de Questão ao GPT:\n",
        "Index(['PatientId', 'AppointmentID', 'Gender', 'ScheduledDay',\n",
        "       'AppointmentDay', 'Age', 'Neighbourhood', 'Scholarship', 'Hipertension',\n",
        "       'Diabetes', 'Alcoholism', 'Handcap', 'SMS_received', 'No-show'],\n",
        "      dtype='object') com esse dataframe que graficos poderiam ser interessantes e fáceis de plotar, entender e fazer novas descobertas?\n",
        "\n",
        "\n",
        "```\n",
        "```\n",
        "\n",
        "  \n",
        "\n",
        "Histograma de Idades: Isso pode ajudar a entender a distribuição de idades dos pacientes."
      ],
      "metadata": {
        "id": "AuzsXE4puyzC"
      }
    },
    {
      "cell_type": "code",
      "source": [
        "df = data.copy() #copia de segurança"
      ],
      "metadata": {
        "id": "3BKtRXGxxCtp"
      },
      "execution_count": null,
      "outputs": []
    },
    {
      "cell_type": "code",
      "source": [
        "import matplotlib.pyplot as plt\n",
        "df['Age'].hist(bins=30)\n",
        "plt.title('Distribuição de Idades')\n",
        "plt.xlabel('Idade')\n",
        "plt.ylabel('Número de Pacientes')\n",
        "plt.show()"
      ],
      "metadata": {
        "colab": {
          "base_uri": "https://localhost:8080/",
          "height": 472
        },
        "id": "VI9IfTZctwsy",
        "outputId": "6d5d57c6-0854-43f4-dce9-d17c452714ff"
      },
      "execution_count": null,
      "outputs": [
        {
          "output_type": "display_data",
          "data": {
            "text/plain": [
              "<Figure size 640x480 with 1 Axes>"
            ],
            "image/png": "[encoded data removed]"
          },
          "metadata": {}
        }
      ]
    },
    {
      "cell_type": "markdown",
      "source": [
        "Gráfico de Barras de Condições de Saúde: Você pode plotar a quantidade de pacientes com Hipertensão, Diabetes, Alcoolismo e Handcap."
      ],
      "metadata": {
        "id": "ZR0-RENbv-XY"
      }
    },
    {
      "cell_type": "code",
      "source": [
        "conditions = ['Hipertension', 'Diabetes', 'Alcoholism', 'Handcap']\n",
        "df[conditions].sum().plot(kind='bar')\n",
        "plt.title('Número de Pacientes por Condição de Saúde')\n",
        "plt.xlabel('Condição de Saúde')\n",
        "plt.ylabel('Número de Pacientes')\n",
        "plt.show()\n"
      ],
      "metadata": {
        "colab": {
          "base_uri": "https://localhost:8080/",
          "height": 547
        },
        "id": "YtBOuHWHwA1_",
        "outputId": "24aa02cb-1416-4da5-8028-e72057797958"
      },
      "execution_count": null,
      "outputs": [
        {
          "output_type": "display_data",
          "data": {
            "text/plain": [
              "<Figure size 640x480 with 1 Axes>"
            ],
            "image/png": "[encoded data removed]"
          },
          "metadata": {}
        }
      ]
    },
    {
      "cell_type": "markdown",
      "source": [
        "\n",
        "Para criar um gráfico que mostre as condições de saúde por idade, você pode agrupar os dados por idade e calcular a média das condições de saúde. Aqui está um exemplo de como você pode fazer isso usando a biblioteca matplotlib para plotar os gráficos:"
      ],
      "metadata": {
        "id": "gDwkIxIRw2Wt"
      }
    },
    {
      "cell_type": "code",
      "source": [
        "# Convertendo a coluna 'Age' para numérica\n",
        "#df['Age'] = pd.to_numeric(df['Age'], errors='coerce')\n",
        "\n",
        "# Agrupando os dados por idade e calculando a média das condições de saúde\n",
        "health_conditions = df.groupby('Age')[['Hipertension', 'Diabetes', 'Alcoholism', 'Handcap']].mean()\n",
        "\n",
        "# Plotando o gráfico\n",
        "plt.figure(figsize=(10, 6))\n",
        "for condition in ['Hipertension', 'Diabetes', 'Alcoholism', 'Handcap']:\n",
        "    plt.plot(health_conditions.index, health_conditions[condition], label=condition)\n",
        "\n",
        "plt.xlabel('Idade')\n",
        "plt.ylabel('Média de Condições de Saúde')\n",
        "plt.title('Condições de Saúde por Idade')\n",
        "plt.legend()\n",
        "plt.show()\n"
      ],
      "metadata": {
        "colab": {
          "base_uri": "https://localhost:8080/",
          "height": 565
        },
        "id": "h6CI1nNZw3wA",
        "outputId": "dcf32d5b-34f9-4519-895f-95078eb08bfa"
      },
      "execution_count": null,
      "outputs": [
        {
          "output_type": "display_data",
          "data": {
            "text/plain": [
              "<Figure size 1000x600 with 1 Axes>"
            ],
            "image/png": "[encoded data removed]"
          },
          "metadata": {}
        }
      ]
    },
    {
      "cell_type": "code",
      "source": [
        "#quem tem mais de 100 anos?\n",
        "idades[idades>100]"
      ],
      "metadata": {
        "colab": {
          "base_uri": "https://localhost:8080/"
        },
        "id": "9aKBDib-xqNb",
        "outputId": "d5fc11fe-d949-459b-9db3-61e6bb41a093"
      },
      "execution_count": null,
      "outputs": [
        {
          "output_type": "execute_result",
          "data": {
            "text/plain": [
              "58014    102\n",
              "63912    115\n",
              "63915    115\n",
              "68127    115\n",
              "76284    115\n",
              "90372    102\n",
              "97666    115\n",
              "Name: Age, dtype: int64"
            ]
          },
          "metadata": {},
          "execution_count": 113
        }
      ]
    },
    {
      "cell_type": "markdown",
      "source": [
        "Gráfico de Pizza de Gênero: Isso pode ajudar a entender a proporção de pacientes masculinos e femininos."
      ],
      "metadata": {
        "id": "G_31MfdszS_e"
      }
    },
    {
      "cell_type": "code",
      "source": [
        "df['Gender'].value_counts().plot(kind='pie', autopct='%1.1f%%')\n",
        "plt.title('Distribuição de Gênero')\n",
        "plt.show()"
      ],
      "metadata": {
        "colab": {
          "base_uri": "https://localhost:8080/",
          "height": 429
        },
        "id": "1HS-6kdfxrm_",
        "outputId": "e41735f2-25a6-43b5-b7b8-c98f56af1c63"
      },
      "execution_count": null,
      "outputs": [
        {
          "output_type": "display_data",
          "data": {
            "text/plain": [
              "<Figure size 640x480 with 1 Axes>"
            ],
            "image/png": "[encoded data removed]"
          },
          "metadata": {}
        }
      ]
    },
    {
      "cell_type": "markdown",
      "source": [
        "Gráfico de Barras de No-show: Você pode plotar a quantidade de pacientes que compareceram ou não à consulta."
      ],
      "metadata": {
        "id": "cdSw7Qyszbfd"
      }
    },
    {
      "cell_type": "code",
      "source": [
        "df['No-show'].value_counts().plot(kind='bar')\n",
        "plt.title('Comparecimento à Consulta')\n",
        "plt.xlabel('Compareceu à Consulta?')\n",
        "plt.ylabel('Número de Pacientes')\n",
        "plt.show()"
      ],
      "metadata": {
        "colab": {
          "base_uri": "https://localhost:8080/",
          "height": 481
        },
        "id": "FV4IsRQuzcQU",
        "outputId": "e744926e-f8c6-4b9a-977b-5664da35163d"
      },
      "execution_count": null,
      "outputs": [
        {
          "output_type": "display_data",
          "data": {
            "text/plain": [
              "<Figure size 640x480 with 1 Axes>"
            ],
            "image/png": "[encoded data removed]"
          },
          "metadata": {}
        }
      ]
    },
    {
      "cell_type": "markdown",
      "source": [
        "##GPT:\n",
        "Como eu poderia identificar as principais variaveis relacionadas ao no_show positivo?\n",
        "\n",
        "```\n",
        "```\n",
        "Para identificar as principais variáveis relacionadas ao No-show positivo, você pode usar técnicas de análise estatística e de aprendizado de máquina. Aqui estão algumas etapas que você pode seguir:\n",
        "\n",
        "####**1) Análise Descritiva:**\n",
        "Primeiro, você pode começar com uma análise descritiva para entender a distribuição de No-show em relação a outras variáveis. Por exemplo, você pode verificar a proporção de No-show para homens e mulheres, ou para diferentes faixas etárias.\n",
        "\n",
        "####**2) Testes de Hipóteses:**\n",
        "Você pode realizar testes de hipóteses para verificar se a diferença nas proporções de No-show para diferentes grupos é estatisticamente significativa. Por exemplo, você pode usar um teste de qui-quadrado para verificar se a proporção de No-show é significativamente diferente entre homens e mulheres.\n",
        "\n",
        "####**3) Correlação:**\n",
        "Você pode calcular a correlação entre No-show e outras variáveis numéricas. Isso pode ajudar a identificar quais variáveis têm uma forte relação linear com No-show.\n",
        "\n",
        "####**4) Modelos de Aprendizado de Máquina:**\n",
        "Finalmente, você pode usar modelos de aprendizado de máquina, como regressão logística ou árvores de decisão, para identificar as variáveis mais importantes. Esses modelos podem levar em conta interações complexas entre variáveis que podem ser difíceis de capturar com métodos estatísticos mais simples.\n"
      ],
      "metadata": {
        "id": "6dHmygpK0FUQ"
      }
    },
    {
      "cell_type": "markdown",
      "source": [
        "###Presença de valores categóricos"
      ],
      "metadata": {
        "id": "LbpMe41t1fHn"
      }
    },
    {
      "cell_type": "markdown",
      "source": [
        "Se existe uma categoria ou um valor não numérico em uma das suas variáveis, você precisará tratar esses dados antes de poder usá-los em um modelo de aprendizado de máquina. Uma maneira comum de fazer isso é através do uso de codificação one-hot, que cria novas colunas para cada categoria única em uma variável."
      ],
      "metadata": {
        "id": "VXqihDAo2Wey"
      }
    },
    {
      "cell_type": "code",
      "source": [
        "df.select_dtypes(include=['object']).columns"
      ],
      "metadata": {
        "colab": {
          "base_uri": "https://localhost:8080/"
        },
        "id": "t51Qf7aE3Pa2",
        "outputId": "0bcd7127-ad7a-4f7b-9afb-963f03de338a"
      },
      "execution_count": null,
      "outputs": [
        {
          "output_type": "execute_result",
          "data": {
            "text/plain": [
              "Index(['Gender', 'ScheduledDay', 'AppointmentDay', 'Neighbourhood', 'No-show'], dtype='object')"
            ]
          },
          "metadata": {},
          "execution_count": 114
        }
      ]
    },
    {
      "cell_type": "markdown",
      "source": [
        "Este código irá imprimir uma lista de todas as colunas no DataFrame df que são provavelmente categóricas. Você pode ajustar o limite de 10 valores únicos para se adequar aos seus dados.\n",
        "\n",
        "Depois de identificar as colunas categóricas, você pode passá-las para a função get_dummies:"
      ],
      "metadata": {
        "id": "oMuJpe5X4I44"
      }
    },
    {
      "cell_type": "code",
      "source": [
        "df2 = df.copy() #security copy"
      ],
      "metadata": {
        "id": "A0HNUuFsTSse"
      },
      "execution_count": null,
      "outputs": []
    },
    {
      "cell_type": "code",
      "source": [
        "# Convertendo as colunas 'ScheduledDay' e 'AppointmentDay' para datetime\n",
        "df2['ScheduledDay'] = pd.to_datetime(df['ScheduledDay'])\n",
        "df2['AppointmentDay'] = pd.to_datetime(df['AppointmentDay'])\n",
        "\n",
        "# Criando novas colunas para o dia da semana\n",
        "df2['ScheduledDayOfWeek'] = df2['ScheduledDay'].dt.day_name()\n",
        "df2['AppointmentDayOfWeek'] = df2['AppointmentDay'].dt.day_name()\n",
        "\n",
        "# Em seguida, subtraia 'ScheduledDay' de 'AppointmentDay' para obter a diferença em dias\n",
        "df2['DaysBetween'] = (df2['AppointmentDay'] - df2['ScheduledDay']).dt.days"
      ],
      "metadata": {
        "id": "bDkcCo5DC5aA"
      },
      "execution_count": null,
      "outputs": []
    },
    {
      "cell_type": "markdown",
      "source": [
        "Para identificar automaticamente as colunas que precisam ser passadas para a função get_dummies (metodo one-hot), você pode procurar por colunas no seu DataFrame que contêm dados categóricos. Uma maneira de fazer isso é selecionar colunas que têm o tipo de dados ‘object’, que é o tipo usado pelo pandas para representar dados textuais, que muitas vezes são categóricos.\n",
        "\n",
        "No entanto, nem todas as colunas ‘object’ serão categóricas. Por exemplo, uma coluna de strings que representam texto livre provavelmente não seria uma boa candidata para a codificação one-hot. Portanto, você pode querer adicionar uma etapa adicional para verificar o número de valores únicos em cada coluna ‘object’. Se o número de valores únicos for relativamente pequeno, então é provável que a coluna seja categórica."
      ],
      "metadata": {
        "id": "WrnfEa4T37G5"
      }
    },
    {
      "cell_type": "code",
      "source": [
        "# Selecionando as colunas do tipo 'object'\n",
        "object_columns = df2.select_dtypes(include=['object']).columns\n",
        "\n",
        "# Identificando as colunas categóricas\n",
        "categorical_columns = [col for col in object_columns if df2[col].nunique() < 10]\n",
        "\n",
        "print(categorical_columns)\n"
      ],
      "metadata": {
        "colab": {
          "base_uri": "https://localhost:8080/"
        },
        "id": "S-puid5m2NpN",
        "outputId": "26129a24-abaa-486f-b11c-59b79159e8b8"
      },
      "execution_count": null,
      "outputs": [
        {
          "output_type": "stream",
          "name": "stdout",
          "text": [
            "['Gender', 'No-show', 'ScheduledDayOfWeek', 'AppointmentDayOfWeek']\n"
          ]
        }
      ]
    },
    {
      "cell_type": "markdown",
      "source": [
        "Depois de identificar as colunas categóricas, você pode passá-las para a função get_dummies:"
      ],
      "metadata": {
        "id": "XSryigr0UEkk"
      }
    },
    {
      "cell_type": "code",
      "source": [
        "df3 = pd.get_dummies(df2, columns=categorical_columns)\n",
        "df3.columns"
      ],
      "metadata": {
        "colab": {
          "base_uri": "https://localhost:8080/"
        },
        "id": "t-NRPgH0UDxq",
        "outputId": "2abcb980-fd76-4554-a420-af779381bdf6"
      },
      "execution_count": null,
      "outputs": [
        {
          "output_type": "execute_result",
          "data": {
            "text/plain": [
              "Index(['PatientId', 'AppointmentID', 'ScheduledDay', 'AppointmentDay', 'Age',\n",
              "       'Neighbourhood', 'Scholarship', 'Hipertension', 'Diabetes',\n",
              "       'Alcoholism', 'Handcap', 'SMS_received', 'DaysBetween', 'Gender_F',\n",
              "       'Gender_M', 'No-show_No', 'No-show_Yes', 'ScheduledDayOfWeek_Friday',\n",
              "       'ScheduledDayOfWeek_Monday', 'ScheduledDayOfWeek_Saturday',\n",
              "       'ScheduledDayOfWeek_Thursday', 'ScheduledDayOfWeek_Tuesday',\n",
              "       'ScheduledDayOfWeek_Wednesday', 'AppointmentDayOfWeek_Friday',\n",
              "       'AppointmentDayOfWeek_Monday', 'AppointmentDayOfWeek_Saturday',\n",
              "       'AppointmentDayOfWeek_Thursday', 'AppointmentDayOfWeek_Tuesday',\n",
              "       'AppointmentDayOfWeek_Wednesday'],\n",
              "      dtype='object')"
            ]
          },
          "metadata": {},
          "execution_count": 123
        }
      ]
    },
    {
      "cell_type": "code",
      "source": [
        "df4 = df3[['Age','Scholarship', 'Hipertension', 'Diabetes',\n",
        "       'Alcoholism', 'Handcap', 'SMS_received', 'DaysBetween', 'Gender_F',\n",
        "       'Gender_M',  'ScheduledDayOfWeek_Friday',\n",
        "       'ScheduledDayOfWeek_Monday', 'ScheduledDayOfWeek_Saturday',\n",
        "       'ScheduledDayOfWeek_Thursday', 'ScheduledDayOfWeek_Tuesday',\n",
        "       'ScheduledDayOfWeek_Wednesday', 'AppointmentDayOfWeek_Friday',\n",
        "       'AppointmentDayOfWeek_Monday', 'AppointmentDayOfWeek_Saturday',\n",
        "       'AppointmentDayOfWeek_Thursday', 'AppointmentDayOfWeek_Tuesday',\n",
        "       'AppointmentDayOfWeek_Wednesday', 'No-show_Yes',]]"
      ],
      "metadata": {
        "id": "NdJO7fzQWBOG"
      },
      "execution_count": null,
      "outputs": []
    },
    {
      "cell_type": "code",
      "source": [
        "from sklearn.model_selection import train_test_split\n",
        "from sklearn.tree import DecisionTreeClassifier\n",
        "from sklearn.metrics import accuracy_score\n",
        "\n",
        "# Selecionando as colunas que serão usadas como variáveis independentes\n",
        "X = df4.drop(['No-show_Yes'], axis=1)\n",
        "\n",
        "# 'No-show_Yes' é a nossa variável dependente\n",
        "y = df4['No-show_Yes']\n",
        "\n",
        "# Dividindo os dados em conjuntos de treinamento e teste\n",
        "X_train, X_test, y_train, y_test = train_test_split(X, y, test_size=0.2, random_state=42)\n",
        "\n",
        "# Criando o modelo\n",
        "model = DecisionTreeClassifier()\n",
        "\n",
        "# Treinando o modelo\n",
        "model.fit(X_train, y_train)\n",
        "\n",
        "# Fazendo previsões no conjunto de teste\n",
        "y_pred = model.predict(X_test)\n",
        "\n",
        "# Calculando a acurácia do modelo\n",
        "accuracy = accuracy_score(y_test, y_pred)\n",
        "\n",
        "print(f'Acurácia do modelo: {accuracy}')\n",
        "\n",
        "# Exibindo a importância das variáveis\n",
        "importance = pd.DataFrame({'feature': X.columns, 'importance': model.feature_importances_})\n",
        "importance = importance.sort_values('importance', ascending=False)\n",
        "print(importance)\n"
      ],
      "metadata": {
        "colab": {
          "base_uri": "https://localhost:8080/"
        },
        "id": "nTVs3fI9-Xfg",
        "outputId": "60a0ec7a-a936-4bd8-9c3f-6a663b9969f5"
      },
      "execution_count": null,
      "outputs": [
        {
          "output_type": "stream",
          "name": "stdout",
          "text": [
            "Acurácia do modelo: 0.7541843843300461\n",
            "                           feature  importance\n",
            "0                              Age    0.324639\n",
            "7                      DaysBetween    0.287845\n",
            "2                     Hipertension    0.034060\n",
            "8                         Gender_F    0.029778\n",
            "9                         Gender_M    0.027777\n",
            "6                     SMS_received    0.027376\n",
            "1                      Scholarship    0.026607\n",
            "19   AppointmentDayOfWeek_Thursday    0.022320\n",
            "21  AppointmentDayOfWeek_Wednesday    0.021921\n",
            "20    AppointmentDayOfWeek_Tuesday    0.021602\n",
            "14      ScheduledDayOfWeek_Tuesday    0.020669\n",
            "17     AppointmentDayOfWeek_Monday    0.020381\n",
            "15    ScheduledDayOfWeek_Wednesday    0.019912\n",
            "11       ScheduledDayOfWeek_Monday    0.019729\n",
            "10       ScheduledDayOfWeek_Friday    0.019166\n",
            "16     AppointmentDayOfWeek_Friday    0.018328\n",
            "13     ScheduledDayOfWeek_Thursday    0.018135\n",
            "3                         Diabetes    0.016920\n",
            "5                          Handcap    0.013399\n",
            "4                       Alcoholism    0.009132\n",
            "18   AppointmentDayOfWeek_Saturday    0.000211\n",
            "12     ScheduledDayOfWeek_Saturday    0.000092\n"
          ]
        }
      ]
    },
    {
      "cell_type": "markdown",
      "source": [
        "Para determinar se a idade tem uma correlação positiva ou negativa com o No-show, você pode calcular a correlação entre essas duas variáveis. Em Python, você pode usar a função corr do pandas para isso."
      ],
      "metadata": {
        "id": "nGnfAQdtW_9O"
      }
    },
    {
      "cell_type": "code",
      "source": [
        "y_pred"
      ],
      "metadata": {
        "colab": {
          "base_uri": "https://localhost:8080/"
        },
        "id": "g6uKsfJ3in1X",
        "outputId": "e1628990-7145-4cd6-e9d4-16f137f1479d"
      },
      "execution_count": null,
      "outputs": [
        {
          "output_type": "execute_result",
          "data": {
            "text/plain": [
              "array([0, 1, 0, ..., 1, 1, 0], dtype=uint8)"
            ]
          },
          "metadata": {},
          "execution_count": 172
        }
      ]
    },
    {
      "cell_type": "code",
      "source": [
        "import warnings\n",
        "from sklearn.exceptions import DataConversionWarning\n",
        "warnings.filterwarnings(action='ignore', category=UserWarning)\n",
        "\n",
        "x_sample = X_test.iloc[1].copy()\n",
        "#x_sample.DaysBetween = 15\n",
        "# x_sample.SMS_received = 0\n",
        "# x_sample.Scholarship = 1\n",
        "# x_sample.Gender_M = 1\n",
        "# x_sample.Gender_F = 0\n",
        "# x_sample.Age = 35\n",
        "print(x_sample)\n",
        "print(\"Este paciente vai faltar? -->  R:\", model.predict([x_sample]))"
      ],
      "metadata": {
        "colab": {
          "base_uri": "https://localhost:8080/"
        },
        "id": "RAm6iFo2a_ne",
        "outputId": "b102c01d-2141-49f0-9e2b-0724abe8429c"
      },
      "execution_count": null,
      "outputs": [
        {
          "output_type": "stream",
          "name": "stdout",
          "text": [
            "Age                               37\n",
            "Scholarship                        0\n",
            "Hipertension                       0\n",
            "Diabetes                           0\n",
            "Alcoholism                         0\n",
            "Handcap                            0\n",
            "SMS_received                       1\n",
            "DaysBetween                       34\n",
            "Gender_F                           1\n",
            "Gender_M                           0\n",
            "ScheduledDayOfWeek_Friday          0\n",
            "ScheduledDayOfWeek_Monday          0\n",
            "ScheduledDayOfWeek_Saturday        0\n",
            "ScheduledDayOfWeek_Thursday        0\n",
            "ScheduledDayOfWeek_Tuesday         1\n",
            "ScheduledDayOfWeek_Wednesday       0\n",
            "AppointmentDayOfWeek_Friday        0\n",
            "AppointmentDayOfWeek_Monday        0\n",
            "AppointmentDayOfWeek_Saturday      0\n",
            "AppointmentDayOfWeek_Thursday      0\n",
            "AppointmentDayOfWeek_Tuesday       1\n",
            "AppointmentDayOfWeek_Wednesday     0\n",
            "Name: 3635, dtype: int64\n",
            "Este paciente vai faltar? -->  R: [1]\n"
          ]
        }
      ]
    },
    {
      "cell_type": "code",
      "source": [
        "correlation = df4['Age'].corr(df4['No-show_Yes'])\n",
        "print(correlation)\n"
      ],
      "metadata": {
        "colab": {
          "base_uri": "https://localhost:8080/"
        },
        "id": "Wt4_rcQ3XAr_",
        "outputId": "c3601412-8584-4b5e-ce2b-959102aae9a2"
      },
      "execution_count": null,
      "outputs": [
        {
          "output_type": "stream",
          "name": "stdout",
          "text": [
            "-0.06031851140917365\n"
          ]
        }
      ]
    },
    {
      "cell_type": "code",
      "source": [
        "import pandas as pd\n",
        "\n",
        "# Construindo a tabela de contingência\n",
        "contingency_table = pd.crosstab(df3['Scholarship'], df3['No-show_Yes'])\n",
        "\n",
        "# Calculando as porcentagens\n",
        "contingency_table = contingency_table.apply(lambda r: r/r.sum(), axis=1)\n",
        "\n",
        "# Imprimindo a tabela de contingência com porcentagens\n",
        "print(contingency_table)\n",
        "\n"
      ],
      "metadata": {
        "colab": {
          "base_uri": "https://localhost:8080/"
        },
        "id": "Div4klbpZXX1",
        "outputId": "5d130414-4b94-40d7-ef96-a0726edabc3f"
      },
      "execution_count": null,
      "outputs": [
        {
          "output_type": "stream",
          "name": "stdout",
          "text": [
            "No-show_Yes         0         1\n",
            "Scholarship                    \n",
            "0            0.801928  0.198072\n",
            "1            0.762637  0.237363\n"
          ]
        }
      ]
    },
    {
      "cell_type": "markdown",
      "source": [
        "Este código realiza um teste de qui-quadrado na tabela de contingência entre ‘Scholarship’ e ‘No-show_Yes’. O valor-p resultante indica a probabilidade de observar a distribuição atual de ‘No-show_Yes’ entre os grupos ‘Scholarship’ se a ‘Scholarship’ não tiver efeito sobre ‘No-show_Yes’. Um valor-p pequeno (geralmente menor que 0.05) rejeitaria a hipótese nula de que ‘Scholarship’ não tem efeito sobre ‘No-show_Yes’."
      ],
      "metadata": {
        "id": "MoPmRXpdeZdq"
      }
    },
    {
      "cell_type": "code",
      "source": [
        "import pandas as pd\n",
        "from scipy.stats import chi2_contingency\n",
        "\n",
        "# Construindo a tabela de contingência\n",
        "contingency_table = pd.crosstab(df3['Scholarship'], df3['No-show_Yes'])\n",
        "\n",
        "# Realizando o teste de qui-quadrado\n",
        "chi2, p, dof, expected = chi2_contingency(contingency_table)\n",
        "\n",
        "# Imprimindo o valor-p\n",
        "print(f\"O valor-p do teste de qui-quadrado é {p}.\")\n"
      ],
      "metadata": {
        "colab": {
          "base_uri": "https://localhost:8080/"
        },
        "id": "Z7oH1Nyseaoe",
        "outputId": "ae63f7f4-28c2-4000-cf7a-2df869b0ee3b"
      },
      "execution_count": null,
      "outputs": [
        {
          "output_type": "stream",
          "name": "stdout",
          "text": [
            "O valor-p do teste de qui-quadrado é 3.906624913845394e-22.\n"
          ]
        }
      ]
    },
    {
      "cell_type": "code",
      "source": [],
      "metadata": {
        "id": "ETtz3zbWkZuH"
      },
      "execution_count": null,
      "outputs": []
    }
  ]
}