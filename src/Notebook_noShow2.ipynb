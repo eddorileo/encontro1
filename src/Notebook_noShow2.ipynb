{
  "nbformat": 4,
  "nbformat_minor": 0,
  "metadata": {
    "colab": {
      "provenance": [],
      "authorship_tag": "ABX9TyOZjR9nP+F9RE40ZUP6TYhS",
      "include_colab_link": true
    },
    "kernelspec": {
      "name": "python3",
      "display_name": "Python 3"
    },
    "language_info": {
      "name": "python"
    }
  },
  "cells": [
    {
      "cell_type": "markdown",
      "metadata": {
        "id": "view-in-github",
        "colab_type": "text"
      },
      "source": [
        "<a href=\"https://colab.research.google.com/github/eddorileo/saudeDigital/blob/main/Notebook_noShow.ipynb\" target=\"_parent\"><img src=\"https://colab.research.google.com/assets/colab-badge.svg\" alt=\"Open In Colab\"/></a>"
      ]
    },
    {
      "cell_type": "markdown",
      "source": [
        "1. Criar uma pergunta (Objetivo)\n",
        "2. Carregar os dados\n",
        "3. Limpar os dados\n",
        "  - Eliminar campos nulos e vazios\n",
        "  - Eliminar inconsistências\n",
        "5. Checar algumas estatísticas iniciais\n",
        "6. Gerar um gráficos\n",
        "7. Responder a pergunta (ou gerar novas perguntas)\n"
      ],
      "metadata": {
        "id": "KK32xdTACmfG"
      }
    },
    {
      "cell_type": "markdown",
      "source": [
        "Exemplos de dados: https://raw.githubusercontent.com/eddorileo/saudeDigital/main/db/no_show.csv"
      ],
      "metadata": {
        "id": "L7OD1CuhEDYr"
      }
    },
    {
      "cell_type": "markdown",
      "source": [
        "**Pergunta:**\n",
        "\n",
        "*   É possível predizer noshow?\n",
        "*   Quais as causas?\n",
        "*   Quais colunas (parâmetros) estão relacionados com o noshow?\n",
        "\n",
        "\n"
      ],
      "metadata": {
        "id": "8wDGlRw5EtNX"
      }
    },
    {
      "cell_type": "code",
      "source": [],
      "metadata": {
        "id": "TqyBA1oHFsCR"
      },
      "execution_count": null,
      "outputs": []
    }
  ]
}