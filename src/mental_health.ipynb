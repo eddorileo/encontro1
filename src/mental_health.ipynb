{
  "nbformat": 4,
  "nbformat_minor": 0,
  "metadata": {
    "colab": {
      "provenance": [],
      "collapsed_sections": [
        "gpaaGPXKEeD8",
        "qmKOlHe7hgxk"
      ],
      "include_colab_link": true
    },
    "kernelspec": {
      "name": "python3",
      "display_name": "Python 3"
    },
    "language_info": {
      "name": "python"
    }
  },
  "cells": [
    {
      "cell_type": "markdown",
      "metadata": {
        "id": "view-in-github",
        "colab_type": "text"
      },
      "source": [
        "<a href=\"https://colab.research.google.com/github/eddorileo/saudeDigital/blob/main/mental_health.ipynb\" target=\"_parent\"><img src=\"https://colab.research.google.com/assets/colab-badge.svg\" alt=\"Open In Colab\"/></a>"
      ]
    },
    {
      "cell_type": "markdown",
      "source": [
        "# [Ciência de Dados (CD) na Saúde Digital](https://www.canva.com/design/DAFthkkr5Gc/0RlG44WplXPJqrFiTELhzw/view?utm_content=DAFthkkr5Gc&utm_campaign=designshare&utm_medium=link&utm_source=publishsharelink)"
      ],
      "metadata": {
        "id": "3fa6JvmUZoJF"
      }
    },
    {
      "cell_type": "markdown",
      "source": [
        "##A. Prática [(Pipeline)](https://www.canva.com/design/DAFtachadwg/ON-Uvn2dfOIy9e87ccRFMw/view?utm_content=DAFtachadwg&utm_campaign=designshare&utm_medium=link&utm_source=editor)\n"
      ],
      "metadata": {
        "id": "qmKOlHe7hgxk"
      }
    },
    {
      "cell_type": "markdown",
      "source": [
        "###1. Obtendo os Dados"
      ],
      "metadata": {
        "id": "X5ePFNfGCmk2"
      }
    },
    {
      "cell_type": "code",
      "source": [
        "#Importando bibliotecas de apoio\n",
        "import pandas as pd\n",
        "import matplotlib.pyplot as plt\n",
        "import seaborn as sns"
      ],
      "metadata": {
        "id": "OtXBF11xNz6i"
      },
      "execution_count": 1,
      "outputs": []
    },
    {
      "cell_type": "code",
      "source": [
        "# Carregue os dados diretamente do github e salve na variável data\n",
        "data = pd.read_csv('https://raw.githubusercontent.com/eddorileo/mental_health/main/StudentMentalHealth.csv')"
      ],
      "metadata": {
        "id": "EnjqJx8a3Ujm"
      },
      "execution_count": null,
      "outputs": []
    },
    {
      "cell_type": "markdown",
      "source": [
        "###2. Treinando a observação (e mineração)"
      ],
      "metadata": {
        "id": "G565iKxT2e2U"
      }
    },
    {
      "cell_type": "code",
      "source": [
        "data"
      ],
      "metadata": {
        "id": "V-Bfk9YHRmsu"
      },
      "execution_count": null,
      "outputs": []
    },
    {
      "cell_type": "markdown",
      "source": [
        "\n",
        "\n",
        "\n",
        "E se vc quiser trabalhar com apenas uma coluna?\n",
        "\n",
        "\n"
      ],
      "metadata": {
        "id": "Dt-S8tSXHgnb"
      }
    },
    {
      "cell_type": "code",
      "source": [
        "data['Age']"
      ],
      "metadata": {
        "id": "tVXbJtlxHstF"
      },
      "execution_count": null,
      "outputs": []
    },
    {
      "cell_type": "markdown",
      "source": [
        "Faça algo útil com a sua coluna"
      ],
      "metadata": {
        "id": "DfAsS-wNKPoe"
      }
    },
    {
      "cell_type": "code",
      "source": [
        "data.Age.mean()"
      ],
      "metadata": {
        "id": "RU17DXghKQFL"
      },
      "execution_count": null,
      "outputs": []
    },
    {
      "cell_type": "markdown",
      "source": [
        "#### 2.1. Dados corrompidos (irrealísticos, irrelevantes ou nulos)\n",
        "Há algum valor nulo?"
      ],
      "metadata": {
        "id": "Sv36NP8DbI_o"
      }
    },
    {
      "cell_type": "code",
      "source": [
        "data.isnull().sum()"
      ],
      "metadata": {
        "id": "ptV0z1rYZ3MU"
      },
      "execution_count": null,
      "outputs": []
    },
    {
      "cell_type": "markdown",
      "source": [
        "Hora de decidir...\n",
        "O que fazer com eles?"
      ],
      "metadata": {
        "id": "RhtvGcKgjStG"
      }
    },
    {
      "cell_type": "code",
      "source": [
        "#Opção I: Preencher com um valor representativo (esperado)\n",
        "#data['Age'] = data['Age'].fillna( data['Age'].median() )\n",
        "\n",
        "#Opção II: Deletar o registro\n",
        "data2 = data.dropna(subset=['Age'])\n",
        "\n",
        "data2.isnull().sum()"
      ],
      "metadata": {
        "id": "pGqiAMb0an-Q"
      },
      "execution_count": null,
      "outputs": []
    },
    {
      "cell_type": "markdown",
      "source": [
        "##### Tem alguma coluna que não precisamos?"
      ],
      "metadata": {
        "id": "y4b6Js1j6oEv"
      }
    },
    {
      "cell_type": "code",
      "source": [
        "data2=data2.drop(columns=['Timestamp'])"
      ],
      "metadata": {
        "id": "mBZzY9op6u6y"
      },
      "execution_count": null,
      "outputs": []
    },
    {
      "cell_type": "markdown",
      "source": [
        "###3. Gerando Informação (Explore e Visualize)"
      ],
      "metadata": {
        "id": "zwUzfYJjcxKE"
      }
    },
    {
      "cell_type": "code",
      "source": [
        "# statisticas das variáveis numéricas\n",
        "data2.describe(exclude = 'object')"
      ],
      "metadata": {
        "id": "iyE8tjMTTA8D"
      },
      "execution_count": null,
      "outputs": []
    },
    {
      "cell_type": "markdown",
      "source": [
        "...Consegue descobrir o que significam essas estatísticas?"
      ],
      "metadata": {
        "id": "zgLez2F1Mjek"
      }
    },
    {
      "cell_type": "markdown",
      "source": [
        "#####**Nota1**\n",
        "\n",
        "> Para dados numéricos, o índice do resultado incluirá count, mean,[ std](https://shorturl.at/rsQX3), min, max bem como os percentis inferior, 50 e superior.\n",
        "\n",
        "> Por padrão, o percentil inferior é 25 e o percentil superior é 75. O percentil 50 é igual à mediana.\n",
        "\n"
      ],
      "metadata": {
        "id": "Mq-e4yWQPak2"
      }
    },
    {
      "cell_type": "code",
      "source": [
        "# statisticas das variáveis categóricas\n",
        "data2.describe(exclude = ['float', 'int64'])"
      ],
      "metadata": {
        "id": "X_aKV_myTXtE"
      },
      "execution_count": null,
      "outputs": []
    },
    {
      "cell_type": "markdown",
      "source": [
        "#####**Nota2**\n",
        "\n",
        "> Para dados de objeto (por exemplo, strings ou timestamps), o índice do resultado incluirá count, unique, top e freq.\n",
        "\n",
        "> top é o valor mais comum.\n",
        "\n",
        "> freq é a frequência do valor mais comum."
      ],
      "metadata": {
        "id": "lpb3RCP8SNrI"
      }
    },
    {
      "cell_type": "markdown",
      "source": [
        "#### 3.1 Gráficos\n",
        "\n",
        "\n",
        "Que história(s) os dados nos contam?"
      ],
      "metadata": {
        "id": "tGikaBlVfhzE"
      }
    },
    {
      "cell_type": "code",
      "source": [
        "#LINHAS (dados numéricos?)\n",
        "data2.Age.plot()\n",
        "#sns.lineplot(data2)"
      ],
      "metadata": {
        "id": "px576Jkh7zmk"
      },
      "execution_count": null,
      "outputs": []
    },
    {
      "cell_type": "markdown",
      "source": [
        "Como ficaria o resultado de describe (percentis das idades) em uma única imagem?"
      ],
      "metadata": {
        "id": "6mO51YeY9mMR"
      }
    },
    {
      "cell_type": "code",
      "source": [
        "#HISTOGRAMA (Gráfico de barras)\n",
        "sns.histplot(data2['Age'],kde=True)"
      ],
      "metadata": {
        "id": "tK4BCpfy7niO"
      },
      "execution_count": null,
      "outputs": []
    },
    {
      "cell_type": "code",
      "source": [
        "#BOXPLOT\n",
        "data2.Age.plot.box()"
      ],
      "metadata": {
        "id": "7E_rqwDVfiG3"
      },
      "execution_count": null,
      "outputs": []
    },
    {
      "cell_type": "markdown",
      "source": [
        "Esquemas ilustrativos do boxplot: [Esquema I](https://www.alura.com.br/artigos/assets/boxplot/imagem-3.png) e [Esquema II](https://miro.medium.com/v2/resize:fit:8100/1*NRlqiZGQdsIyAu0KzP7LaQ.png)"
      ],
      "metadata": {
        "id": "CFIn_YX1mOUj"
      }
    },
    {
      "cell_type": "code",
      "source": [
        "data2.columns"
      ],
      "metadata": {
        "id": "YjwVTz7g6MQB",
        "outputId": "97bba307-066b-4efb-919a-9e8727a9969e",
        "colab": {
          "base_uri": "https://localhost:8080/"
        }
      },
      "execution_count": null,
      "outputs": [
        {
          "output_type": "execute_result",
          "data": {
            "text/plain": [
              "Index(['Timestamp', 'Choose your gender', 'Age', 'What is your course?',\n",
              "       'Your current year of Study', 'What is your CGPA?', 'Marital status',\n",
              "       'Do you have Depression?', 'Do you have Anxiety?',\n",
              "       'Do you have Panic attack?',\n",
              "       'Did you seek any specialist for a treatment?'],\n",
              "      dtype='object')"
            ]
          },
          "metadata": {},
          "execution_count": 195
        }
      ]
    },
    {
      "cell_type": "code",
      "source": [
        "#plot de contagem\n",
        "sns.countplot(data=data2, x=\"Do you have Anxiety?\", hue='Age')"
      ],
      "metadata": {
        "id": "C1DunH8K177d"
      },
      "execution_count": null,
      "outputs": []
    },
    {
      "cell_type": "markdown",
      "source": [
        "---> É possível dizer que existe **relação*** entre nota (idade) e percepção de depressão?\n",
        "\n"
      ],
      "metadata": {
        "id": "U7w2VVVXF_CN"
      }
    },
    {
      "cell_type": "markdown",
      "source": [
        "###3.3 Como ficaria a correlação entre todas as colunas?"
      ],
      "metadata": {
        "id": "CcUeMHveGzbH"
      }
    },
    {
      "cell_type": "markdown",
      "source": [
        "#### Matriz de Correlação\n",
        "\n",
        "Para gerar a matriz de correlação, vamos usar a função ['***associations***'](http://shakedzy.xyz/dython/modules/nominal/) da biblioteca [dython](http://shakedzy.xyz/dython/).\n",
        "\n",
        "```\n",
        "associations(dataset, nominal_columns='auto', numerical_columns=None, mark_columns=False, nom_nom_assoc='cramer', num_num_assoc='pearson', bias_correction=True, nan_strategy=_REPLACE, nan_replace_value=_DEFAULT_REPLACE_VALUE, ax=None, figsize=None, annot=True, fmt='.2f', cmap=None, sv_color='silver', cbar=True, vmax=1.0, vmin=None, plot=True, compute_only=False, clustering=False, title=None, filename=None)\n",
        "```\n",
        "\n",
        "\n",
        "Ela calcula a correlação (força de associação) entre campos da base de dados tanto para campos categóricos, como para campos contínuos, usando: Pearson's R (casos contínuos-contínuos); Razão de correlação (categórico-contínuo); e Cramer's V ou Theil's U (nos casos de correlação entre campos categórico-categórico)."
      ],
      "metadata": {
        "id": "usRa_Czn3tYc"
      }
    },
    {
      "cell_type": "code",
      "source": [
        "pip install dython"
      ],
      "metadata": {
        "id": "pOYRLADqXtfx"
      },
      "execution_count": null,
      "outputs": []
    },
    {
      "cell_type": "code",
      "source": [
        "from dython.nominal import associations\n",
        "complete_correlation= associations(data2, figsize=(10,10))\n"
      ],
      "metadata": {
        "id": "P4TaMAa_xJYe"
      },
      "execution_count": null,
      "outputs": []
    },
    {
      "cell_type": "markdown",
      "source": [
        "####Que inferências é possível extrair dessas correlações?"
      ],
      "metadata": {
        "id": "pRvtVPhG7VzG"
      }
    },
    {
      "cell_type": "markdown",
      "source": [
        "###Síntese do Aprendizado"
      ],
      "metadata": {
        "id": "3ycCsvTgINex"
      }
    },
    {
      "cell_type": "markdown",
      "source": [
        "\n",
        "\n",
        "```\n",
        "```\n",
        "\n",
        "####Conceitos Chaves da Atividade de Hoje\n",
        "\n",
        "1. Revisão requisitos estatísticos\n",
        "\n",
        "2. Ciência de Dados\n",
        "> Passo-a-passo (pipeline) <br>\n",
        "> Dados x Informação x Conhecimento <br>\n",
        "\n",
        "3. Código (Manipulação e Exploração)\n",
        "> Estatísticas <br>\n",
        "> Gráficos <br>\n",
        "> Correlação <br>\n",
        "\n",
        "\n",
        "\n",
        "```\n",
        "```"
      ],
      "metadata": {
        "id": "YRSxnbT9IsqZ"
      }
    },
    {
      "cell_type": "markdown",
      "source": [
        "\n",
        "## Material de Apoio: [github.com/eddorileo](github.com/eddorileo)\n",
        "---"
      ],
      "metadata": {
        "id": "0bMDhTliiuRE"
      }
    },
    {
      "cell_type": "markdown",
      "source": [
        "\n",
        "\n",
        "####Ciência de Dados  \n",
        "* [Pipeline](https://shorturl.at/rwY07)\n",
        "* [Esquema Geral](https://www.saedsayad.com/data_mining_map.htm)\n",
        "* Tutoriais (inglês) [Must read articles](https://github.com/datasciencescoop/Data-Science-Tutorials)\n",
        "\n",
        "####Estatística\n",
        "* [Conceitos Elementares](https://github.com/eddorileo/cienciaDados_saudeDigital/blob/7200f224298049d382379c581e310fda8d479282/apoio/Conceitos%20Estati%CC%81sticos%20Elementares.pdf)\n",
        "\n",
        "\n"
      ],
      "metadata": {
        "id": "t1CWz25aiqK3"
      }
    }
  ]
}