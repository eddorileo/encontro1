{
  "nbformat": 4,
  "nbformat_minor": 0,
  "metadata": {
    "colab": {
      "provenance": [],
      "gpuType": "V28",
      "authorship_tag": "ABX9TyOvHmIsWpCV7/FbXxSWe4jj",
      "include_colab_link": true
    },
    "kernelspec": {
      "name": "python3",
      "display_name": "Python 3"
    },
    "language_info": {
      "name": "python"
    },
    "accelerator": "TPU"
  },
  "cells": [
    {
      "cell_type": "markdown",
      "metadata": {
        "id": "view-in-github",
        "colab_type": "text"
      },
      "source": [
        "<a href=\"https://colab.research.google.com/github/eddorileo/saudeDigital/blob/main/src/now-show-clinico_notebook.ipynb\" target=\"_parent\"><img src=\"https://colab.research.google.com/assets/colab-badge.svg\" alt=\"Open In Colab\"/></a>"
      ]
    },
    {
      "cell_type": "markdown",
      "source": [
        "#Saúde Digital & Ciência de Dados\n",
        "##Estudo de Caso: No-Show Clínico\n",
        "Dataset Público: [Kaggle](https://www.kaggle.com/datasets/joniarroba/noshowappointments)\n",
        "\n",
        "\n",
        "\n",
        "\n",
        "```\n",
        "```\n",
        "\n",
        "\n",
        "Autor: Éderson Dorileo, MSc, PhD\n",
        "\n",
        "linkedin: https://www.linkedin.com/in/dorileo/\n",
        "\n",
        "Contato: dorileo@gmail.com\n",
        "\n"
      ],
      "metadata": {
        "id": "i9HXkFbBc4dT"
      }
    },
    {
      "cell_type": "markdown",
      "source": [
        "##Fluxo de Trabalho\n",
        "\n",
        "1. Preparação dos Dados\n",
        "\n",
        "\n"
      ],
      "metadata": {
        "id": "CJG88jJod4S2"
      }
    },
    {
      "cell_type": "markdown",
      "source": [
        "###1. Preparação dos Dados\n",
        "A preparação dos dados é crucial para garantir a precisão e eficácia das análises subsequentes. Utilizamos Python para limpar e preparar o dataset, realizando as seguintes etapa:"
      ],
      "metadata": {
        "id": "WbK1ZsISeT6j"
      }
    },
    {
      "cell_type": "markdown",
      "source": [
        "####1.1. Limpeza Inicial\n",
        "\n"
      ],
      "metadata": {
        "id": "UD_NBREZ-keD"
      }
    },
    {
      "cell_type": "code",
      "source": [
        "import pandas as pd\n",
        "import matplotlib.pyplot as plt\n",
        "import seaborn as sns\n",
        "\n",
        "# Carregar os dados\n",
        "df = pd.read_csv('no_show.csv')\n",
        "\n",
        "# Verificar valores ausentes\n",
        "print(df.isnull().sum())\n",
        "\n",
        "# Deletar linhas com valores ausentes\n",
        "df = df.dropna()\n",
        "\n",
        "# Correção de erros de formato e dados incorretos\n",
        "df['ScheduledDay'] = pd.to_datetime(df['ScheduledDay'])\n",
        "df['AppointmentDay'] = pd.to_datetime(df['AppointmentDay'])\n",
        "\n",
        "# Identificar e remover registros com idade negativa\n",
        "df = df[df['Age'] >= 0]\n"
      ],
      "metadata": {
        "id": "GGA-EEezAaM5"
      },
      "execution_count": null,
      "outputs": []
    },
    {
      "cell_type": "markdown",
      "source": [
        "**Descrição das Correções e Transformações:**\n",
        "* **Valores Ausentes:** Verificamos e tratamos valores ausentes nas colunas, removendo qualquer linha com pelo menos um campo nulo.\n",
        "\n",
        "* **Correção de Formatos de Data:** Convertemos as colunas ScheduledDay e AppointmentDay para o formato de data do Python, facilitando manipulações e cálculos de intervalos de tempo.\n",
        "\n",
        "* **Correção de Idades Negativas:** Idades negativas são claramente erros de entrada de dados. Optamos por deletar esses registros, mantendo a consistência no tratamento de dados atípicos.\n"
      ],
      "metadata": {
        "id": "YieF2Us7OK00"
      }
    },
    {
      "cell_type": "markdown",
      "source": [
        "####1.2. Criação de Variáveis Derivadas\n",
        "\n"
      ],
      "metadata": {
        "id": "xfkXWtt2NvWN"
      }
    },
    {
      "cell_type": "code",
      "source": [
        "# Extrair o dia da semana das datas de agendamento e consulta\n",
        "df['ScheduledWeekDay'] = df['ScheduledDay'].dt.day_name()\n",
        "df['AppointmentWeekDay'] = df['AppointmentDay'].dt.day_name()\n",
        "\n",
        "# Categorizar idades em grupos\n",
        "bins = [0, 5, 18, 35, 55, 75, 100]\n",
        "labels = ['Baby', 'Child', 'Young Adult', 'Adult', 'Senior', 'Elderly']\n",
        "df['AgeGroup'] = pd.cut(df['Age'], bins=bins, labels=labels, right=False)\n"
      ],
      "metadata": {
        "id": "Dl8C3atiOusD"
      },
      "execution_count": null,
      "outputs": []
    },
    {
      "cell_type": "markdown",
      "source": [
        "Descrição das Variáveis Derivadas:\n",
        "\n",
        "Dia da Semana: Extraímos o dia da semana para ScheduledDay e AppointmentDay, o que nos permitirá analisar se há dias específicos com maior incidência de no-shows.\n",
        "\n",
        "Grupos Etários: Dividimos a idade dos pacientes em categorias, permitindo análises mais detalhadas sobre diferentes comportamentos etários em relação ao no-show.\n",
        "\n",
        "Este processo de limpeza e preparação dos dados não só melhora a qualidade dos dados, mas também enriquece o dataset com novas variáveis que facilitam análises mais profundas e significativas. A próxima etapa, a análise exploratória, nos ajudará a visualizar e entender melhor esses dados preparados."
      ],
      "metadata": {
        "id": "F_bxk12VOWJp"
      }
    }
  ]
}