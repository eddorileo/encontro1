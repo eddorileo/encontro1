{
  "nbformat": 4,
  "nbformat_minor": 0,
  "metadata": {
    "colab": {
      "provenance": [],
      "gpuType": "V28",
      "authorship_tag": "ABX9TyPMvS2Eky58N0Y+Cp97ISNe",
      "include_colab_link": true
    },
    "kernelspec": {
      "name": "python3",
      "display_name": "Python 3"
    },
    "language_info": {
      "name": "python"
    },
    "accelerator": "TPU"
  },
  "cells": [
    {
      "cell_type": "markdown",
      "metadata": {
        "id": "view-in-github",
        "colab_type": "text"
      },
      "source": [
        "<a href=\"https://colab.research.google.com/github/eddorileo/saudeDigital/blob/main/src/now-show-clinico_notebook.ipynb\" target=\"_parent\"><img src=\"https://colab.research.google.com/assets/colab-badge.svg\" alt=\"Open In Colab\"/></a>"
      ]
    },
    {
      "cell_type": "markdown",
      "source": [
        "#Ciência de Dados e Saúde Digital\n",
        "##No Show Clínico\n",
        "Dataset Público: [Kaggle](https://www.kaggle.com/datasets/joniarroba/noshowappointments)\n",
        "\n",
        "\n",
        "\n",
        "\n",
        "```\n",
        "```\n",
        "\n",
        "\n",
        "Autor: Éderson Dorileo, MSc, PhD\n",
        "\n",
        "linkedin: https://www.linkedin.com/in/dorileo/\n",
        "\n",
        "Contato: [dorileo@gmail.com](mailto:dorileo@gmail.com)\n",
        "\n"
      ],
      "metadata": {
        "id": "i9HXkFbBc4dT"
      }
    },
    {
      "cell_type": "markdown",
      "source": [
        "##Fluxo de Trabalho\n",
        "\n",
        "1. Preparação dos Dados\n",
        "\n",
        "\n"
      ],
      "metadata": {
        "id": "CJG88jJod4S2"
      }
    },
    {
      "cell_type": "markdown",
      "source": [
        "###1. Preparação dos Dados\n",
        "A preparação dos dados é crucial para garantir a precisão e eficácia das análises subsequentes. Utilizamos Python para limpar e preparar o dataset, realizando as seguintes etapa:"
      ],
      "metadata": {
        "id": "WbK1ZsISeT6j"
      }
    },
    {
      "cell_type": "markdown",
      "source": [
        "###Limpeza Inicial\n",
        "\n",
        "####Descrição das Correções e Transformações:\n",
        "* **Valores Ausentes:** Verificamos e tratamos valores ausentes nas colunas críticas. Por exemplo, preenchemos valores ausentes na coluna Age com a mediana, supondo que a ausência de dados pode ser aleatória e que a mediana é menos sensível a outliers do que a média.\n",
        "* **Correção de Formatos de Data:** Convertemos as colunas ScheduledDay e AppointmentDay para o formato de data do Python, facilitando manipulações e cálculos de intervalos de tempo.\n",
        "* **Correção de Idades Negativas:** Idades negativas são claramente erros de entrada de dados. Optamos por deletar esses registros, mantendo a consistência no tratamento de dados atípicos.\n"
      ],
      "metadata": {
        "id": "UD_NBREZ-keD"
      }
    },
    {
      "cell_type": "code",
      "source": [
        "import pandas as pd\n",
        "\n",
        "# Carregar os dados\n",
        "df = pd.read_csv('path_to_dataset.csv')\n",
        "\n",
        "# Verificar valores ausentes\n",
        "print(df.isnull().sum())\n",
        "\n",
        "# Tratamento de valores ausentes\n",
        "df['Age'].fillna(df['Age'].median(), inplace=True)\n",
        "\n",
        "# Correção de erros de formato e dados incorretos\n",
        "df['ScheduledDay'] = pd.to_datetime(df['ScheduledDay'])\n",
        "df['AppointmentDay'] = pd.to_datetime(df['AppointmentDay'])\n",
        "\n",
        "# Corrigir idades negativas\n",
        "df.loc[df['Age'] < 0, 'Age'] = df['Age'].median()\n"
      ],
      "metadata": {
        "id": "GGA-EEezAaM5"
      },
      "execution_count": null,
      "outputs": []
    },
    {
      "cell_type": "markdown",
      "source": [
        "####Descrição das Correções e Transformações:\n",
        "* **Valores Ausentes:** Verificamos e tratamos valores ausentes nas colunas críticas. Por exemplo, preenchemos valores ausentes na coluna Age com a mediana, supondo que a ausência de dados pode ser aleatória e que a mediana é menos sensível a outliers do que a média.\n",
        "* **Correção de Formatos de Data:** Convertemos as colunas ScheduledDay e AppointmentDay para o formato de data do Python, facilitando manipulações e cálculos de intervalos de tempo.\n",
        "* **Correção de Idades Negativas:** Idades negativas são claramente erros de entrada de dados. Optamos por deletar esses registros, mantendo a consistência no tratamento de dados atípicos.\n"
      ],
      "metadata": {
        "id": "H6HU1i4yAp2F"
      }
    }
  ]
}