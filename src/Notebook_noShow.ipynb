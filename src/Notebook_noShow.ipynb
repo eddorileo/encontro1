{
  "nbformat": 4,
  "nbformat_minor": 0,
  "metadata": {
    "colab": {
      "provenance": [],
      "authorship_tag": "ABX9TyM+gB82pHAEvk7fPBy9kv5d",
      "include_colab_link": true
    },
    "kernelspec": {
      "name": "python3",
      "display_name": "Python 3"
    },
    "language_info": {
      "name": "python"
    }
  },
  "cells": [
    {
      "cell_type": "markdown",
      "metadata": {
        "id": "view-in-github",
        "colab_type": "text"
      },
      "source": [
        "<a href=\"https://colab.research.google.com/github/eddorileo/saudeDigital/blob/main/src/Notebook_noShow.ipynb\" target=\"_parent\"><img src=\"https://colab.research.google.com/assets/colab-badge.svg\" alt=\"Open In Colab\"/></a>"
      ]
    },
    {
      "cell_type": "markdown",
      "source": [
        "Redação (Texto)\n",
        "1. Criar uma pergunta (Objetivo)\n",
        "2. Justificar Relevância do tema (Motivação)\n",
        "\n",
        "Análise (Código)\n",
        "1. Carregar os dados\n",
        "2. Limpar os dados\n",
        "  - Eliminar campos nulos e vazios\n",
        "  - Eliminar inconsistências\n",
        "3. Checar algumas estatísticas iniciais\n",
        "4. Gerar um gráficos\n",
        "5. Responder a pergunta (ou gerar novas perguntas)\n"
      ],
      "metadata": {
        "id": "KK32xdTACmfG"
      }
    },
    {
      "cell_type": "markdown",
      "source": [
        "**Pergunta:**\n",
        "\n",
        "*   É possível predizer? Como explorar o conceito?\n",
        "*   Quais as causas?\n",
        "*   Quais fatores (colunas, parâmetros) estão relacionados com o conceito de interesse?\n",
        "\n",
        "\n"
      ],
      "metadata": {
        "id": "8wDGlRw5EtNX"
      }
    }
  ]
}