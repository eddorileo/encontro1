{
  "nbformat": 4,
  "nbformat_minor": 0,
  "metadata": {
    "colab": {
      "provenance": [],
      "gpuType": "V28",
      "authorship_tag": "ABX9TyPzeVzlRHx1uVc0OGu2X4wK",
      "include_colab_link": true
    },
    "kernelspec": {
      "name": "python3",
      "display_name": "Python 3"
    },
    "language_info": {
      "name": "python"
    },
    "accelerator": "TPU"
  },
  "cells": [
    {
      "cell_type": "markdown",
      "metadata": {
        "id": "view-in-github",
        "colab_type": "text"
      },
      "source": [
        "<a href=\"https://colab.research.google.com/github/eddorileo/saudeDigital/blob/main/src/nowshow_20240904_ebook.ipynb\" target=\"_parent\"><img src=\"https://colab.research.google.com/assets/colab-badge.svg\" alt=\"Open In Colab\"/></a>"
      ]
    },
    {
      "cell_type": "markdown",
      "source": [
        "#Ciência de Dados e Saúde Digital\n",
        "##No Show Clínico\n",
        "Facilitador: Éderson Dorileo, MSc, PhD\n",
        "\n",
        "Fonte: [Kaggle](https://www.kaggle.com/datasets/joniarroba/noshowappointments)\n",
        "\n",
        "Ferramentas de Apoio\n",
        "1. Google Colab\n",
        "2. Chat GPT\n",
        "3. Python"
      ],
      "metadata": {
        "id": "i9HXkFbBc4dT"
      }
    },
    {
      "cell_type": "markdown",
      "source": [
        "###Orientação da Atividade:\n",
        "Vamos criar um passo a passo para analisar dados de no show clinico. Criaremos um pipeline didático, para rodarmos em python, no colab. O objetivo é entender melhor a base, tratar dados nulos e inconsistências, identificar as variáveis mais relevantes e a melhor forma de enfrentar o no show na clinica."
      ],
      "metadata": {
        "id": "-7RF7XrAcXMv"
      }
    },
    {
      "cell_type": "markdown",
      "source": [
        "##Fluxo de Trabalho\n",
        "1. Abrir a tabela (ex: usando colab e python)\n",
        "2. Visualizar a tabela\n",
        "4. Tratamento de Dados Nulos e Inconsistências\n",
        "5. Análise Exploratória de Dados (Gráficos)\n",
        "6. Identificação de Variáveis Relevantes\n",
        "8. Conclusões e Recomendações\n",
        "\n"
      ],
      "metadata": {
        "id": "CJG88jJod4S2"
      }
    },
    {
      "cell_type": "markdown",
      "source": [
        "###1. Preparação dos Dados\n",
        "A preparação dos dados é crucial para garantir a precisão e eficácia das análises subsequentes. Utilizamos Python para limpar e preparar o dataset, realizando as seguintes etapa:"
      ],
      "metadata": {
        "id": "WbK1ZsISeT6j"
      }
    },
    {
      "cell_type": "markdown",
      "source": [
        "###Limpeza Inicial"
      ],
      "metadata": {
        "id": "UD_NBREZ-keD"
      }
    },
    {
      "cell_type": "code",
      "source": [
        "import pandas as pd\n",
        "\n",
        "# Carregar os dados\n",
        "df = pd.read_csv('path_to_dataset.csv')\n",
        "\n",
        "# Verificar valores ausentes\n",
        "print(df.isnull().sum())\n",
        "\n",
        "# Tratamento de valores ausentes\n",
        "df['Age'].fillna(df['Age'].median(), inplace=True)\n",
        "\n",
        "# Correção de erros de formato e dados incorretos\n",
        "df['ScheduledDay'] = pd.to_datetime(df['ScheduledDay'])\n",
        "df['AppointmentDay'] = pd.to_datetime(df['AppointmentDay'])\n",
        "\n",
        "# Corrigir idades negativas\n",
        "df.loc[df['Age'] < 0, 'Age'] = df['Age'].median()\n"
      ],
      "metadata": {
        "id": "GGA-EEezAaM5"
      },
      "execution_count": null,
      "outputs": []
    },
    {
      "cell_type": "markdown",
      "source": [
        "####Descrição das Correções e Transformações:\n",
        "* **Valores Ausentes:** Verificamos e tratamos valores ausentes nas colunas críticas. Por exemplo, preenchemos valores ausentes na coluna Age com a mediana, supondo que a ausência de dados pode ser aleatória e que a mediana é menos sensível a outliers do que a média.\n",
        "* **Correção de Formatos de Data:** Convertemos as colunas ScheduledDay e AppointmentDay para o formato de data do Python, facilitando manipulações e cálculos de intervalos de tempo.\n",
        "* **Correção de Idades Negativas:** Idades negativas são claramente erros de entrada de dados. Optamos por deletar esses registros, mantendo a consistência no tratamento de dados atípicos.\n"
      ],
      "metadata": {
        "id": "H6HU1i4yAp2F"
      }
    }
  ]
}