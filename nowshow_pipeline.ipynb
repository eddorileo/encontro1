{
  "nbformat": 4,
  "nbformat_minor": 0,
  "metadata": {
    "colab": {
      "provenance": [],
      "authorship_tag": "ABX9TyPS16RXbpnmlAkJR5Mes7n7",
      "include_colab_link": true
    },
    "kernelspec": {
      "name": "python3",
      "display_name": "Python 3"
    },
    "language_info": {
      "name": "python"
    }
  },
  "cells": [
    {
      "cell_type": "markdown",
      "metadata": {
        "id": "view-in-github",
        "colab_type": "text"
      },
      "source": [
        "<a href=\"https://colab.research.google.com/github/eddorileo/saudeDigital/blob/main/nowshow_pipeline.ipynb\" target=\"_parent\"><img src=\"https://colab.research.google.com/assets/colab-badge.svg\" alt=\"Open In Colab\"/></a>"
      ]
    },
    {
      "cell_type": "markdown",
      "source": [
        "#Ciencia de Dados e Saúde Digital\n",
        "##No Show Clínico\n",
        "\n",
        "Fonte: [Kaggle](https://www.kaggle.com/datasets/joniarroba/noshowappointments)"
      ],
      "metadata": {
        "id": "i9HXkFbBc4dT"
      }
    },
    {
      "cell_type": "markdown",
      "source": [
        "Vamos criar um passo a passo para analisar dados de no show clinico. Criaremos um pipeline didático, para rodarmos em python, no colab. O objetivo é entender melhor a base, tratar dados nulos e inconsistências, identificar as variáveis mais relevantes e a melhor forma de enfrentar o no show na clinica."
      ],
      "metadata": {
        "id": "-7RF7XrAcXMv"
      }
    },
    {
      "cell_type": "markdown",
      "source": [
        "###Passo a Passo\n",
        "Importação das Bibliotecas Necessárias\n",
        "\n",
        "1. Entendimento da Base de Dados\n",
        "2. Tratamento de Dados Nulos e Inconsistências\n",
        "3. Análise Exploratória de Dados (EDA)\n",
        "4. Identificação de Variáveis Relevantes\n",
        "5. Construção de Modelos Preditivos\n",
        "6. Conclusões e Recomendações"
      ],
      "metadata": {
        "id": "CJG88jJod4S2"
      }
    },
    {
      "cell_type": "code",
      "execution_count": null,
      "metadata": {
        "id": "63N-WyH0b9Cv"
      },
      "outputs": [],
      "source": [
        "a=1"
      ]
    }
  ]
}