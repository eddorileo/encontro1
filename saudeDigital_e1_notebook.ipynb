{
  "nbformat": 4,
  "nbformat_minor": 0,
  "metadata": {
    "colab": {
      "provenance": [],
      "collapsed_sections": [
        "gpaaGPXKEeD8",
        "qmKOlHe7hgxk"
      ],
      "include_colab_link": true
    },
    "kernelspec": {
      "name": "python3",
      "display_name": "Python 3"
    },
    "language_info": {
      "name": "python"
    }
  },
  "cells": [
    {
      "cell_type": "markdown",
      "metadata": {
        "id": "view-in-github",
        "colab_type": "text"
      },
      "source": [
        "<a href=\"https://colab.research.google.com/github/eddorileo/encontro1/blob/main/saudeDigital_e1_notebook.ipynb\" target=\"_parent\"><img src=\"https://colab.research.google.com/assets/colab-badge.svg\" alt=\"Open In Colab\"/></a>"
      ]
    },
    {
      "cell_type": "markdown",
      "source": [
        "# [Ciência de Dados na Saúde Digital](https://www.canva.com/design/DAFthkkr5Gc/0RlG44WplXPJqrFiTELhzw/view?utm_content=DAFthkkr5Gc&utm_campaign=designshare&utm_medium=link&utm_source=publishsharelink)\n",
        "```\n",
        "```\n",
        "\n",
        "###Apresentação da Atividade\n",
        "Nesta atividade vamos explorar juntos conceitos estatísticos básicos através da interação prática com ferramentas computacionais populares para a manipulação de grandes massas de dados, organização da informação e extração de conhecimento. As práticas serão motivadas pela sensibilização a temas do cotidiano, conectados à saúde digital.\n",
        "\n",
        "###Objetivo\n",
        "* Entender conceitos básicos de estatística e ciência de dados na saúde\n",
        "* Conhecer e explorar ambientes colaborativos de partilha de dados, análise, apresentação, extração e divulgação de resultados\n",
        "* Explorar caderno (notebook Jupter) de estudo de casos em saúde\n",
        "* Saber como rodar um programa simples em Python em ambiente simulado (Google Colab)\n",
        "\n",
        "\n",
        "###Questões de Base\n",
        "- Qual a relavância da ciência de dados para o exercício da saúde digital?\n",
        "- Como o domínio da manipulação de grandes massas de dados podem me fazer um profissional diferenciado?\n",
        "- Que benefícios a familiaridade com a manipulação eficiente dos dados pode prover ao paciente, à gestão na instituições e/ou à saúde pública, em geral?\n",
        "- Quais os desafios ao se lidar com grandes bases de dados?\n",
        "- O que é colab e python? Isso é para médicos? (Cadê o excel?)\n",
        "- Por que essas tecnologias são ideais para a exploração rápida, facilitada e colaborativa de grandes massas de dados? <p>\n",
        "\n",
        "\n",
        "\n",
        "\n",
        "````\n",
        "````\n",
        "\n",
        "\n",
        "###Conceitos Chaves da Atividade de Hoje\n",
        "\n",
        "\n",
        "> Vocabulário Estatístico Elementar\n",
        "* População e amostra <br>\n",
        "* Dados (numéricos e categóricos) <br>\n",
        "* Variáveis (dependentes e independentes) <BR>\n",
        "* Parâmetros e modelos\n",
        "* Estimar x predizer <br>\n",
        "* Distribuição (Curva normal)\n",
        "\n",
        "> Código Base\n",
        "* Tipos de dados\n",
        "* Operadores\n",
        "* Condicional e loop\n",
        "* Funções\n",
        "\n",
        "\n",
        "```\n",
        "```"
      ],
      "metadata": {
        "id": "3fa6JvmUZoJF"
      }
    },
    {
      "cell_type": "markdown",
      "source": [
        "##A. Introdução"
      ],
      "metadata": {
        "id": "Fe8hKRUFNjH-"
      }
    },
    {
      "cell_type": "markdown",
      "source": [
        "####1.1 Aspectos conceituais de base\n",
        "- Tripé Conceitual da Ciência de Dados\n",
        "- Alvo Ubíquo: Quantificação > Detecção precoce > Decisão\n",
        "- Gestão Eficiente: clínica, institucional x saúde pública\n",
        "\n"
      ],
      "metadata": {
        "id": "cQFp8DY8Lmgv"
      }
    },
    {
      "cell_type": "markdown",
      "source": [
        "\n",
        "#### 1.2 Disparador: [Artigo](https://github.com/eddorileo/cienciaDados_saudeDigital/blob/main/2021%20neto%2C%20ciencias%20de%20dados%20em%20saude.pdf)\n",
        "\n",
        "1. Leitura (Introdução) - 5' <br>\n",
        "2. Momento de interação, partilha e apropriação do tema\n",
        "> Pontuando problemas e explicações (30') <br>\n",
        "> Elaborando questões e novos significados (30') <BR>\n",
        "> * Em posse da habilidade, o que mudaria?\n",
        "3. Ponto Prático (30')<br>\n",
        "4. Síntese do Aprendizado (30')<br>\n",
        "5. Avaliação (20')<br>\n",
        "\n",
        "\n",
        "\n"
      ],
      "metadata": {
        "id": "8IasyIYkTF7_"
      }
    },
    {
      "cell_type": "markdown",
      "source": [
        "##B. Prática\n"
      ],
      "metadata": {
        "id": "qmKOlHe7hgxk"
      }
    },
    {
      "cell_type": "markdown",
      "source": [
        "#### 1. Explorando Novos Ambientes: [Google Colab](https://colab.research.google.com/#create=true)\n",
        "#### 2. [Atividade Prática](https://github.com/eddorileo/cienciaDados_saudeDigital/blob/main/demo_python.ipynb)"
      ],
      "metadata": {
        "id": "h7LqIyoPAKmb"
      }
    },
    {
      "cell_type": "markdown",
      "source": [
        "##C. Avaliação"
      ],
      "metadata": {
        "id": "wrBpbbVJMxZk"
      }
    },
    {
      "cell_type": "markdown",
      "source": [
        "\n",
        "## D. Material de Apoio: [github.com/eddorileo](github.com/eddorileo)\n",
        "---"
      ],
      "metadata": {
        "id": "ysKK5jMikPdW"
      }
    },
    {
      "cell_type": "markdown",
      "source": [
        "\n",
        "\n",
        "####Aspectos Semânticos\n",
        "* [Método Científico](https://github.com/eddorileo/cienciaDados_saudeDigital/blob/6b1d3e6de06f1a34280705c7b757a18d67b61c59/apoio/ciencia.pdf)\n",
        "\n",
        "####Estatística\n",
        "* [Conceitos Estatísticos Elementares](https://github.com/eddorileo/cienciaDados_saudeDigital/blob/main/apoio/Conceitos%20Estati%CC%81sticos%20Elementares.pdf)\n",
        "\n",
        "\n",
        "\n",
        "\n",
        "\n",
        "\n",
        "\n",
        "\n",
        "\n",
        "\n"
      ],
      "metadata": {
        "id": "cUUh84jokDy2"
      }
    }
  ]
}